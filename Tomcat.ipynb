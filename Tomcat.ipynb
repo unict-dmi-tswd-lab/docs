{
 "cells": [
  {
   "cell_type": "raw",
   "id": "5b0c7de7-add2-4761-ac5a-a3ead17c17ae",
   "metadata": {
    "editable": true,
    "raw_mimetype": "",
    "slideshow": {
     "slide_type": ""
    },
    "tags": []
   },
   "source": [
    "---\n",
    "title: \"Tomcat\"\n",
    "author: \"Salvo Nicotra\"\n",
    "format: revealjs\n",
    "incremental: true  \n",
    "theme: white\n",
    "chalkboard: true\n",
    "css: style.css\n",
    "smaller: true\n",
    "# scrollable: true\n",
    "include-before: |\n",
    "    <img src=\"images/unict-logo.png\" class=\"custom-logo\" alt=\"Logo\">\n",
    "include-after: |\n",
    "      <div class=\"custom-footer\">\n",
    "        *** Web and Service Oriented Systems and Laboratory (WSOS) - 2024/2025 ***\n",
    "      </div>\n",
    "---"
   ]
  },
  {
   "cell_type": "markdown",
   "id": "a05c9530",
   "metadata": {
    "editable": true,
    "slideshow": {
     "slide_type": "slide"
    },
    "tags": []
   },
   "source": [
    "# Tomcat and its friends\n",
    "\n",
    ":::{.fragment}\n",
    "![](images/Tom-and-jerry-1-.webp)\n",
    ":::"
   ]
  },
  {
   "cell_type": "markdown",
   "id": "2ab6832e",
   "metadata": {
    "editable": true,
    "slideshow": {
     "slide_type": "fragment"
    },
    "tags": []
   },
   "source": [
    "## What is Tomcat ?\n",
    ":::: {.columns}\n",
    "\n",
    "::: {.fragment .column width=\"50%\"}\n",
    "\n",
    "The Apache Tomcat® software is an open source implementation of the Jakarta Servlet, Jakarta Server Pages, Jakarta Expression Language, Jakarta WebSocket, Jakarta Annotations and Jakarta Authentication specifications. These specifications are part of the [Jakarta EE platform](https://projects.eclipse.org/projects/ee4j.jakartaee-platform).\n",
    "\n",
    "::: \n",
    "\n",
    "::: {.fragment .column width=\"50%\"}\n",
    "\n",
    "He (James Duncan Davidson) came up with \"Tomcat\" since the animal represented something that could take care of itself and fend for itself. That's how he came up with the name.\n",
    "\n",
    "![](https://tomcat.apache.org/res/images/tomcat.png)\n",
    ":::\n",
    "::::\n"
   ]
  },
  {
   "cell_type": "markdown",
   "id": "417a7d56",
   "metadata": {
    "editable": true,
    "slideshow": {
     "slide_type": "slide"
    },
    "tags": []
   },
   "source": [
    "### What is Jakarta ?\n",
    ":::: {.columns}\n",
    "\n",
    "::: {.fragment .column width=\"50%\"}\n",
    "<https://en.wikipedia.org/wiki/Jakarta_EE>\n",
    "\n",
    "- Jakarta EE, formerly Java Platform, Enterprise Edition (Java EE) and Java 2 Platform, Enterprise Edition (J2EE), is a set of specifications, extending Java SE with specifications for enterprise features such as *distributed computing* and *web services*.\n",
    "\n",
    "- Jakarta EE applications are run on reference *runtimes*, which can be *microservices* or *application servers*, which handle transactions, security, scalability, concurrency and management of the components they are deploying.\n",
    "\n",
    "::: \n",
    "\n",
    "::: {.fragment  .column width=\"50%\"}\n",
    "![](https://upload.wikimedia.org/wikipedia/commons/8/81/Jakarta_ee_logo_schooner_color_stacked_default.svg)\n",
    ":::\n",
    "::::"
   ]
  },
  {
   "attachments": {},
   "cell_type": "markdown",
   "id": "5ab9014a-54cc-4532-bfa9-ed8b32f0b258",
   "metadata": {
    "editable": true,
    "slideshow": {
     "slide_type": "slide"
    },
    "tags": []
   },
   "source": [
    "### The X migration\n",
    ":::{.fragment}\n",
    "![](images/jland.png)\n",
    ":::"
   ]
  },
  {
   "cell_type": "markdown",
   "id": "0fcdca7b",
   "metadata": {
    "editable": true,
    "slideshow": {
     "slide_type": "slide"
    },
    "tags": []
   },
   "source": [
    "## Application server ?\n",
    ":::{.fragment}\n",
    "![](https://i.imgflip.com/6zpkyh.jpg)\n",
    "[NicsMeme](https://imgflip.com/i/6zpkyh)\n",
    ":::"
   ]
  },
  {
   "cell_type": "markdown",
   "id": "811e7ea6",
   "metadata": {
    "editable": true,
    "slideshow": {
     "slide_type": "slide"
    },
    "tags": []
   },
   "source": [
    "### What is an application server ?"
   ]
  },
  {
   "cell_type": "markdown",
   "id": "40731ccd-ec7d-4c35-81bc-fc2466affc3f",
   "metadata": {
    "editable": true,
    "slideshow": {
     "slide_type": "fragment"
    },
    "tags": []
   },
   "source": [
    "#### A definition from Wikipedia\n",
    ":::{.fragment}\n",
    "![](images/wikipedia-applicationserver.png)\n",
    ":::"
   ]
  },
  {
   "cell_type": "markdown",
   "id": "9d4129cd",
   "metadata": {
    "editable": true,
    "slideshow": {
     "slide_type": "slide"
    },
    "tags": []
   },
   "source": [
    "#### A definition from Encyclopedia of Database Systems. Springer\n",
    "\n",
    "> Schuldt, H. (2018). Application Server. In: Liu, L., Özsu, M.T. (eds) Encyclopedia of Database Systems. Springer, New York, NY. https://doi.org/10.1007/978-1-4614-8265-9_665\n",
    "\n",
    "**Synonyms**\n",
    "Web application server; Java application server \n",
    "\n",
    "**Definition**\n",
    "An Application Server is a dedicated software component in a three-tier or multi-tier architecture which provides application logic (business logic) and which allows for the separation of application logic from user interface functionality (client layer), delivery of data (web server), and data management (database server)."
   ]
  },
  {
   "cell_type": "markdown",
   "id": "33ee5d06",
   "metadata": {
    "editable": true,
    "slideshow": {
     "slide_type": "subslide"
    },
    "tags": []
   },
   "source": [
    "**Key Points**"
   ]
  },
  {
   "cell_type": "markdown",
   "id": "7f640bc4",
   "metadata": {
    "editable": true,
    "slideshow": {
     "slide_type": "fragment"
    },
    "tags": []
   },
   "source": [
    "::: {.fragment}\n",
    "Modern information systems, especially information systems on the web, follow an architectural paradigm that is based on a *separation of concerns*. \n",
    "\n",
    "In contrast to monolithic (single tier) architectures or two-tier client/ server architectures where business logic is bundled with other functionality, three-tier or multi-tier architectures consider dedicated application servers which exclusively focus on providing business logic.\n",
    "::: \n",
    "\n",
    "::: {.fragment}\n",
    "In three-tier or multi-tier architectures, *application servers* typically make use of several middleware services which enable the communication within and between layers. \n",
    "\n",
    "Application servers usually provide the basis for the execution of distributed applications with transactional guarantees on top of persistent data. In large-scale deployments, systems might encompass several instances of application servers (application server clusters). This allows for the distribution of client requests across application server instances for the purpose of load balancing.\n",
    ":::\n",
    "\n",
    "::: {.fragment}\n",
    "Early application servers evolved from distributed TP Monitors. Over time, a large variety of application servers has emerged. The most prominent class consists of **Java application servers**, either as stand-alone servers or embedded in large software systems.\n",
    ":::"
   ]
  },
  {
   "cell_type": "markdown",
   "id": "8206c5ea-53b6-4c5f-8d53-f864579ed3cb",
   "metadata": {
    "cell_style": "split",
    "editable": true,
    "slideshow": {
     "slide_type": "subslide"
    },
    "tags": []
   },
   "source": [
    "### Real Life\n",
    "> Whichever the case, the truth though is that even though Tomcat cannot be technically defined as an application server, it is continuously and successfully being used as an application server for millions of mission-critical applications on a daily basis. The jury is still out there.\n",
    "\n",
    "https://javapipe.com/blog/tomcat-application-server/"
   ]
  },
  {
   "cell_type": "markdown",
   "id": "afd8a341-f22d-4bc7-ae99-c45ff70315f5",
   "metadata": {
    "cell_style": "split",
    "editable": true,
    "slideshow": {
     "slide_type": "subslide"
    },
    "tags": []
   },
   "source": [
    "#### Java Developer Productivity Report \n",
    "\n",
    "https://www.jrebel.com/success/resources/2024-Java-developer-productivity-report"
   ]
  },
  {
   "cell_type": "markdown",
   "id": "a0730f61-1e53-4ac2-944c-dad9315773ce",
   "metadata": {
    "cell_style": "split",
    "editable": true,
    "slideshow": {
     "slide_type": ""
    },
    "tags": []
   },
   "source": [
    "![2022](images/java-developer-productivity-2022.png){.fragment }"
   ]
  },
  {
   "cell_type": "markdown",
   "id": "2905e98f-72b2-443c-930d-8de0f950c71d",
   "metadata": {
    "cell_style": "split",
    "editable": true,
    "slideshow": {
     "slide_type": "subslide"
    },
    "tags": []
   },
   "source": [
    "![2023](images/java-developer-productivity-2023.png){.fragment }"
   ]
  },
  {
   "cell_type": "markdown",
   "id": "4aa77deb-868e-484b-bf61-379ff4227630",
   "metadata": {
    "cell_style": "split",
    "editable": true,
    "slideshow": {
     "slide_type": "subslide"
    },
    "tags": []
   },
   "source": [
    "![2024](images/java-developer-productivity-2024.png){.fragment}"
   ]
  },
  {
   "cell_type": "markdown",
   "id": "54335580",
   "metadata": {
    "editable": true,
    "slideshow": {
     "slide_type": "subslide"
    },
    "tags": []
   },
   "source": [
    "### Web and Application Servers for Java\n",
    "https://www.baeldung.com/java-servers"
   ]
  },
  {
   "cell_type": "markdown",
   "id": "0510b401",
   "metadata": {
    "editable": true,
    "slideshow": {
     "slide_type": "fragment"
    },
    "tags": []
   },
   "source": [
    "1. [Apache Tomcat](http://tomcat.apache.org/)\n",
    "2. [Eclipse Jetty](https://eclipse.dev/jetty/)\n",
    "3. [TomEE](https://tomee.apache.org/)\n",
    "4. [Oracle WebLogic](http://www.oracle.com/technetwork/middleware/weblogic/overview/index.html)\n",
    "5. [WebSphere](https://www.ibm.com/products/websphere-application-server)\n",
    "6. [WildFly](http://wildfly.org/)\n",
    "7. ✝[Apache Geronimo](https://geronimo.apache.org)\n",
    "8. [Eclipse GlassFish](https://projects.eclipse.org/projects/ee4j.glassfish)"
   ]
  },
  {
   "cell_type": "markdown",
   "id": "83c8f539",
   "metadata": {
    "editable": true,
    "slideshow": {
     "slide_type": "slide"
    },
    "tags": []
   },
   "source": [
    "## The reference Framework"
   ]
  },
  {
   "cell_type": "markdown",
   "id": "50c8ecc2",
   "metadata": {
    "editable": true,
    "slideshow": {
     "slide_type": "slide"
    },
    "tags": []
   },
   "source": [
    "### Jakarta EE{.scrollable}\n",
    "\n",
    "| Platform version | Released       | Specification | Java SE Support        | Important Changes                                                                                                   |\n",
    "|------------------|----------------|---------------|-----------------------|---------------------------------------------------------------------------------------------------------------------|\n",
    "| [Jakarta EE 11](https://jakarta.ee/specifications/platform/11/)    | Under Development    | 11            | Java SE 21 | Support for Java Records, Virtual Threads, Jakarta Data 1.0 |\n",
    "| Jakarta EE 10    | 2022-09-13     | 10            | Java SE 17 Java SE 11 | Removal of deprecated items in Servlet, Faces, CDI and EJB (Entity Beans and Embeddable Container). CDI-Build Time. |\n",
    "| Jakarta EE 9.1   | 2021-05-25     | 9.1           | Java SE 11 Java SE 8  | JDK 11 support                                                                                                       |\n",
    "| Jakarta EE 9     | 2020-12-08     | 9             | Java SE 8             | API namespace move from javax to jakarta                                                                             |\n",
    "| Jakarta EE 8     | 2019-09-10     | 8             | Java SE 8             | Full compatibility with Java EE 8                                                                                   |\n",
    "| Java EE 8        | 2017-08-31     | JSR 366       | Java SE 8             | HTTP/2 and CDI based Security                                                                                       |\n",
    "| Java EE 7        | 2013-05-28     | JSR 342       | Java SE 7             | WebSocket, JSON and HTML5 support                                                                                   |\n",
    "| Java EE 6        | 2009-12-10     | JSR 316       | Java SE 6             | CDI managed Beans and REST                                                                                           |\n",
    "| Java EE 5        | 2006-05-11     | JSR 244       | Java SE 5             | Java annotations                                                                                                     |\n",
    "| J2EE 1.4         | 2003-11-11     | JSR 151       | J2SE 1.4              | WS-I interoperable web services                                                                                 |\n",
    "| J2EE 1.3         | 2001-09-24     | JSR 58        | J2SE 1.3              | Java connector architecture                                                                                     |\n",
    "| J2EE 1.2         | 1999-12-17     | 1.2           | J2SE 1.2              | Initial specification release  \n",
    "\n",
    "[Source](https://en.wikipedia.org/wiki/Jakarta_EE)"
   ]
  },
  {
   "cell_type": "markdown",
   "id": "eb93e870",
   "metadata": {
    "editable": true,
    "slideshow": {
     "slide_type": "slide"
    },
    "tags": []
   },
   "source": [
    "## How to run Tomcat"
   ]
  },
  {
   "cell_type": "markdown",
   "id": "bd22ad4a",
   "metadata": {
    "editable": true,
    "jp-MarkdownHeadingCollapsed": true,
    "slideshow": {
     "slide_type": "subslide"
    },
    "tags": []
   },
   "source": [
    "### 1. Local / VM\n",
    "\n",
    "- Download : https://tomcat.apache.org/download-10.cgi\n",
    "- Setup: https://tomcat.apache.org/tomcat-10.1-doc/setup.html\n",
    "- Run ```./bin/startup.sh```\n",
    "- Use: http://localhost:8080"
   ]
  },
  {
   "cell_type": "markdown",
   "id": "7c0a7b2a",
   "metadata": {
    "editable": true,
    "slideshow": {
     "slide_type": "slide"
    },
    "tags": []
   },
   "source": [
    "### 2. Docker"
   ]
  },
  {
   "cell_type": "markdown",
   "id": "5824b152",
   "metadata": {
    "editable": true,
    "slideshow": {
     "slide_type": "fragment"
    },
    "tags": []
   },
   "source": [
    "Simply run\n",
    "```bash\n",
    "docker run -it --rm -p 9001:8080 tomcat:10.1.30\n",
    "```"
   ]
  },
  {
   "cell_type": "markdown",
   "id": "2be42c42",
   "metadata": {
    "editable": true,
    "slideshow": {
     "slide_type": "fragment"
    },
    "tags": []
   },
   "source": [
    "Then go to http://localhost:9001"
   ]
  },
  {
   "cell_type": "markdown",
   "id": "f26b15b7",
   "metadata": {
    "slideshow": {
     "slide_type": "subslide"
    }
   },
   "source": [
    "![](https://i.imgflip.com/6zqjsr.jpg)\n",
    "\n",
    "[NicsMeme](https://imgflip.com/i/6zqjsr)"
   ]
  },
  {
   "cell_type": "markdown",
   "id": "bc9e6715",
   "metadata": {
    "cell_style": "split",
    "editable": true,
    "slideshow": {
     "slide_type": "subslide"
    },
    "tags": []
   },
   "source": [
    "#### Why ?\n",
    ":::{.fragment}\n",
    "**The Reason**\n",
    "Due to <https://tomcat.apache.org/tomcat-10.0-doc/security-howto.html#Default_web_applications> \n",
    "Default Web Apps are disabled\n",
    "See <https://github.com/docker-library/tomcat/pull/181>\n",
    "\n",
    ":::\n",
    "\n",
    ":::{.fragment}\n",
    "**A solution for testing**\n",
    "<https://charith.xyz/docker/accessing-tomcat-manager-of-an-app-deployed-on-docker/>\n",
    ":::"
   ]
  },
  {
   "cell_type": "markdown",
   "id": "0d5f0594",
   "metadata": {
    "editable": true,
    "slideshow": {
     "slide_type": "slide"
    },
    "tags": []
   },
   "source": [
    "### 3. Cloud\n",
    "see <https://cloud.google.com/learn/paas-vs-iaas-vs-saas>\n",
    "![](https://www.gstatic.com/bricks/image/Zpw-v4ZOiAkbLm9ARSl68tGaZFYsFsz1ABwRbl8Cj_ozj12jCTPmgVGKBARz3Xwum1CUsMQ7Hog.jpeg){.fragment .lightbox}"
   ]
  },
  {
   "cell_type": "markdown",
   "id": "69b4f0e8",
   "metadata": {
    "editable": true,
    "slideshow": {
     "slide_type": "subslide"
    },
    "tags": []
   },
   "source": [
    "#### Deploy Java Web Apps: IaaS\n",
    "\n",
    ":::: {.columns}\n",
    "\n",
    "::: {.fragment .column width=\"50%\"}\n",
    "**Infrastructure as a service**: If you are busy, you might consider hiring a contractor to do the work. You tell them how you want the house to look and how many rooms you want, and they take the instructions and build your home. IaaS works in a similar way for your applications. You rent the hardware to run your application on, but you are responsible for managing the OS, runtime, scale, and all the data\n",
    "\n",
    "**Deploy** Same as local install on virtual machine / scaleset with a of a Load Balancer to dispatch requests\n",
    ":::\n",
    "\n",
    "::: {.fragment .column width=\"50%\"}\n",
    "\n",
    "```{mermaid}\n",
    "graph TD\n",
    "    LB[Load Balancer] --> VMSS[Virtual Machine Scale Set]\n",
    "    subgraph ScaleSet\n",
    "        VM1[VM 1<br>Tomcat]\n",
    "        VM2[VM 2<br>Tomcat]\n",
    "        VM3[VM 3<br>Tomcat]\n",
    "    end\n",
    "    \n",
    "    VMSS --> VM1\n",
    "    VMSS --> VM2\n",
    "    VMSS --> VM3\n",
    "\n",
    "    style LB fill:#1f78b4,stroke:#333,stroke-width:2px,color:#fff\n",
    "    style VMSS fill:#33a02c,stroke:#333,stroke-width:2px,color:#fff\n",
    "    style VM1 fill:#ff7f00,stroke:#333,stroke-width:2px,color:#fff\n",
    "    style VM2 fill:#ff7f00,stroke:#333,stroke-width:2px,color:#fff\n",
    "    style VM3 fill:#ff7f00,stroke:#333,stroke-width:2px,color:#fff\n",
    "```\n",
    ":::\n",
    "::::\n"
   ]
  },
  {
   "cell_type": "markdown",
   "id": "fec6478c",
   "metadata": {
    "editable": true,
    "slideshow": {
     "slide_type": "subslide"
    },
    "tags": []
   },
   "source": [
    "#### Deploy Java Web Apps: Caas/Kaas"
   ]
  },
  {
   "cell_type": "markdown",
   "id": "2b5d57fd",
   "metadata": {
    "editable": true,
    "slideshow": {
     "slide_type": "fragment"
    },
    "tags": []
   },
   "source": [
    ":::: {.columns}\n",
    "\n",
    "::: {.fragment .column width=\"50%\"}\n",
    "**Containers as a service**: If buying a home is just too much work due to the maintenance it comes with, you can choose to rent instead. The basic utilities are included, but you bring your own furniture and make the space yours. With containers, you can bring a containerized application, so you don't have to worry about the underlying operating system but still have control over scale and runtime.\n",
    "\n",
    "**Deploy**: \n",
    "Containerized webapps deployed using CD/CI tools in Cloud Kubernetes env \n",
    ":::\n",
    "\n",
    "::: {.fragment .column width=\"50%\"}\n",
    "```{mermaid}\n",
    "graph TD\n",
    "    Client[Client] --> Ingress[Ingress]\n",
    "    Ingress --> Service[Service]\n",
    "    Service --> Deployment[Tomcat Deployment]\n",
    "    \n",
    "    subgraph Kubernetes Cluster\n",
    "        subgraph ReplicaSet\n",
    "            Pod1[Tomcat Pod 1]\n",
    "            Pod2[Tomcat Pod 2]\n",
    "            Pod3[Tomcat Pod 3]\n",
    "        end\n",
    "    end\n",
    "\n",
    "    Deployment --> ReplicaSet\n",
    "    ReplicaSet --> Pod1\n",
    "    ReplicaSet --> Pod2\n",
    "    ReplicaSet --> Pod3\n",
    "\n",
    "    style Client fill:#66ccff,stroke:#333,stroke-width:2px,color:#000\n",
    "    style Ingress fill:#ffcc66,stroke:#333,stroke-width:2px,color:#000\n",
    "    style Service fill:#66ff66,stroke:#333,stroke-width:2px,color:#000\n",
    "    style Deployment fill:#ff9966,stroke:#333,stroke-width:2px,color:#000\n",
    "    style Pod1 fill:#ffcc99,stroke:#333,stroke-width:2px,color:#000\n",
    "    style Pod2 fill:#ffcc99,stroke:#333,stroke-width:2px,color:#000\n",
    "    style Pod3 fill:#ffcc99,stroke:#333,stroke-width:2px,color:#000\n",
    "```\n",
    ":::\n",
    "::::"
   ]
  },
  {
   "cell_type": "markdown",
   "id": "da646d9a",
   "metadata": {
    "editable": true,
    "slideshow": {
     "slide_type": "slide"
    },
    "tags": []
   },
   "source": [
    "#### Deploy Java Web Apps: PaaS\n",
    "\n",
    "**Platform as a service:** If you don’t want to worry about furnishing your living space, you can rent a furnished house. PaaS lets you bring your own code and deploy it but leaves the server management and scaling up to the cloud provider."
   ]
  },
  {
   "cell_type": "markdown",
   "id": "c41b7729",
   "metadata": {
    "cell_style": "split",
    "editable": true,
    "slideshow": {
     "slide_type": "subslide"
    },
    "tags": []
   },
   "source": [
    "##### Azure App Services\n",
    "https://azure.microsoft.com/en-us/products/app-service/#overview\n",
    "\n",
    "https://learn.microsoft.com/en-us/azure/app-service/quickstart-java?tabs=tomcat&pivots=platform-linux-development-environment-maven\n",
    ":::{.fragment}\n",
    "\n",
    "![](images/app-services-tomcat.png)\n",
    "\n",
    ":::"
   ]
  },
  {
   "cell_type": "markdown",
   "id": "6c9fb4c3",
   "metadata": {
    "cell_style": "split",
    "editable": true,
    "slideshow": {
     "slide_type": "subslide"
    },
    "tags": []
   },
   "source": [
    "##### Elastic Beanstalk\n",
    "https://aws.amazon.com/elasticbeanstalk/?nc1=h_ls\n",
    "\n",
    "https://docs.aws.amazon.com/elasticbeanstalk/latest/dg/java-tomcat-platform.html\n",
    "\n",
    "https://docs.aws.amazon.com/elasticbeanstalk/latest/dg/create_deploy_Java.html\n",
    "\n",
    ":::{.fragment}\n",
    "\n",
    "![](images/elastic-beanstalk-tomcat.png)\n",
    "\n",
    ":::"
   ]
  },
  {
   "cell_type": "markdown",
   "id": "6a58ef73",
   "metadata": {
    "cell_style": "split",
    "editable": true,
    "slideshow": {
     "slide_type": "subslide"
    },
    "tags": []
   },
   "source": [
    "##### App Engine\n",
    "https://cloud.google.com/appengine\n",
    "\n",
    "✝ https://github.com/GoogleCloudPlatform/tomcat-runtime\n",
    "\n",
    "https://cloud.google.com/blog/topics/developers-practitioners/introducing-google-clouds-tomcat-migration-tooling\n",
    "\n",
    ":::{.fragment}\n",
    "![](https://cloud.google.com/static/migrate/containers/docs/images/windows-migration-steps.svg)\n",
    "\n",
    ":::"
   ]
  },
  {
   "cell_type": "markdown",
   "id": "07232e05",
   "metadata": {
    "editable": true,
    "slideshow": {
     "slide_type": "slide"
    },
    "tags": []
   },
   "source": [
    "## Tomcat Architecture\n",
    ":::{.fragment}\n",
    "![](https://www.atatus.com/blog/content/images/2022/02/Tomcat-architecture.png)\n",
    "\n",
    "https://www.atatus.com/blog/tomcat-performance-monitoring/#Tomcat%20Server%20Architecture\n",
    "\n",
    ":::"
   ]
  },
  {
   "cell_type": "markdown",
   "id": "4dd2d851",
   "metadata": {
    "editable": true,
    "slideshow": {
     "slide_type": "slide"
    },
    "tags": []
   },
   "source": [
    "### Tomcat Configuration\n",
    "\n",
    "::: {.r-stretch}\n",
    "<iframe width=\"768\" height=\"432\" src=\"https://miro.com/app/live-embed/uXjVPGAqjEk=/?moveToViewport=-1444,-468,2038,967&embedId=769738956524\" frameborder=\"0\" scrolling=\"no\" allow=\"fullscreen; clipboard-read; clipboard-write\" allowfullscreen></iframe>\n",
    ":::"
   ]
  },
  {
   "cell_type": "markdown",
   "id": "630fa551",
   "metadata": {
    "editable": true,
    "slideshow": {
     "slide_type": "slide"
    },
    "tags": []
   },
   "source": [
    "## Tomcat Default Applications \n",
    "<https://tomcat.apache.org/tomcat-10.1-doc/security-howto.html#Default_web_applications>\n",
    "\n",
    "By default tomcat install some examples and management tools accessible from the root page <http://localhost:8080>\n",
    "\n",
    "::: {.callout-caution}\n",
    "- By default for security reason these applications are accessible only in localhost\n",
    "- To use manager tomcat-users needs to be configured\n",
    ":::"
   ]
  },
  {
   "cell_type": "markdown",
   "id": "309f59db",
   "metadata": {
    "editable": true,
    "slideshow": {
     "slide_type": "slide"
    },
    "tags": []
   },
   "source": [
    "## [How to deploy apps in Tomcat](https://tomcat.apache.org/tomcat-10.0-doc/appdev/deployment.html#Deployment_With_Tomcat){.smaller}\n",
    "\n",
    "1. Copy unpacked directory hierarchy into a subdirectory in directory $CATALINA_BASE/webapps/. Tomcat will assign a context path to your application based on the subdirectory name you choose. Be sure to restart Tomcat after installing or updating your application.\n",
    "\n",
    "2. Copy the web application archive file into directory $CATALINA_BASE/webapps/. When Tomcat is started, it will automatically expand the web application archive file into its unpacked form, and execute the application that way. \n",
    "\n",
    "3. Use the Tomcat \"Manager\" web application to deploy and undeploy web applications. Tomcat includes a web application, deployed by default on context path /manager, that allows you to deploy and undeploy applications on a running Tomcat server without restarting it. "
   ]
  },
  {
   "cell_type": "markdown",
   "id": "f61a2758",
   "metadata": {
    "editable": true,
    "slideshow": {
     "slide_type": "slide"
    },
    "tags": []
   },
   "source": [
    "#### 1. Deploy app copying dir\n",
    ":::{.fragment}\n",
    "Step 1: Clone simpleapp <https://github.com/unict-dmi-wsos/simple-servlet>\n",
    ":::\n",
    "\n",
    ":::{.fragment}\n",
    "Step 2: Compile\n",
    "```bash\n",
    "# Change servlet-api location to proper place\n",
    "javac -cp $CATALINA_HOME/lib/servlet-api.jar SimpleServlet.java \n",
    "```\n",
    ":::\n",
    "\n",
    ":::{.fragment}\n",
    "Step 2: Start Tomcat\n",
    "```bash\n",
    "$CATALINA_HOME/bin/startup.sh\n",
    "```\n",
    ":::\n",
    "\n",
    ":::{.fragment}\n",
    "Step 3: Deploy App\n",
    "```bash\n",
    "rm -rf $CATALINA_HOME/webapps/simple-servlet\n",
    "cp -r simple-servlet $CATALINA_HOME/webapps \n",
    "```\n",
    ":::\n",
    "\n",
    ":::{.fragment}\n",
    "Step 4: See Tomcat logs\n",
    "```bash\n",
    "tail $CATALINA_HOME/logs/catalina.out\n",
    "```\n",
    ":::\n",
    "\n",
    ":::{.fragment}\n",
    "Step 5: Test app\n",
    "<http://localhost:8080/simple-servlet/>\n",
    ":::\n"
   ]
  },
  {
   "cell_type": "markdown",
   "id": "75aec675",
   "metadata": {
    "editable": true,
    "slideshow": {
     "slide_type": "slide"
    },
    "tags": []
   },
   "source": [
    "### Create a WAR package\n",
    "\n",
    ":::{.fragment}\n",
    "Packing using jar\n",
    "```bash\n",
    "cd /Users/nics/Dev/GitHub/tswd-workspace/simple-servlet\n",
    "jar -cvf simple-servlet.war *\n",
    "```\n",
    "\n",
    "```bash\n",
    "added manifest\n",
    "adding: WEB-INF/(in = 0) (out= 0)(stored 0%)\n",
    "adding: WEB-INF/classes/(in = 0) (out= 0)(stored 0%)\n",
    "adding: WEB-INF/classes/SimpleServlet.class(in = 1348) (out= 722)(deflated 46%)\n",
    "adding: WEB-INF/classes/SimpleServlet.java(in = 951) (out= 409)(deflated 56%)\n",
    "adding: WEB-INF/web.xml(in = 234) (out= 102)(deflated 56%)\n",
    "adding: index.html(in = 176) (out= 121)(deflated 31%)\n",
    "```\n",
    ":::\n",
    ":::{.fragment}\n",
    "Just a zip file\n",
    "```bash\n",
    "% unzip -t simple-servlet.war\n",
    "Archive:  simple-servlet.war\n",
    "    testing: META-INF/                OK\n",
    "    testing: META-INF/MANIFEST.MF     OK\n",
    "    testing: WEB-INF/                 OK\n",
    "    testing: WEB-INF/classes/         OK\n",
    "    testing: WEB-INF/classes/SimpleServlet.class   OK\n",
    "    testing: WEB-INF/classes/SimpleServlet.java   OK\n",
    "    testing: WEB-INF/web.xml          OK\n",
    "    testing: index.html               OK\n",
    "No errors detected in compressed data of simple-servlet.war.\n",
    "```\n",
    ":::"
   ]
  },
  {
   "cell_type": "markdown",
   "id": "95b67a9b",
   "metadata": {
    "editable": true,
    "slideshow": {
     "slide_type": "slide"
    },
    "tags": []
   },
   "source": [
    "#### A standard package"
   ]
  },
  {
   "cell_type": "markdown",
   "id": "98f0cb62",
   "metadata": {
    "editable": true,
    "slideshow": {
     "slide_type": "slide"
    },
    "tags": []
   },
   "source": [
    "> Learning Java An Introduction to Real-World Programming with Java"
   ]
  },
  {
   "cell_type": "markdown",
   "id": "46c493b3",
   "metadata": {
    "slideshow": {
     "slide_type": "subslide"
    }
   },
   "source": [
    "In the context of the Java Servlet API, a web application is a collection of servlets and\n",
    "Java web services that support Java classes, content such as HTML, Java Server Pages\n",
    "(JSP), images or other media, and configuration information. \n",
    "For deployment (installation on a web server), a web application is bundled into a WAR file."
   ]
  },
  {
   "cell_type": "markdown",
   "id": "266633ad",
   "metadata": {
    "slideshow": {
     "slide_type": "subslide"
    }
   },
   "source": [
    "The important thing is that the standardization of WAR files means not only that the Java code\n",
    "is portable, but also that the process of deploying the application to a server is\n",
    "standardized."
   ]
  },
  {
   "cell_type": "markdown",
   "id": "318a65aa",
   "metadata": {
    "editable": true,
    "slideshow": {
     "slide_type": "slide"
    },
    "tags": []
   },
   "source": [
    "## 2. Deploy using War\n",
    "\n",
    ":::{.fragment}\n",
    "```bash\n",
    "cp simple-servlet.war /Users/nics/Dev/apache-tomcat-10.0.27/webapps/\n",
    "```\n",
    ":::"
   ]
  },
  {
   "cell_type": "markdown",
   "id": "6a867132",
   "metadata": {
    "editable": true,
    "slideshow": {
     "slide_type": "slide"
    },
    "tags": []
   },
   "source": [
    "## 3. Deploy using UI\n",
    ":::{.fragment}\n",
    "http://localhost:8080/manager/html/list?\n",
    ":::"
   ]
  },
  {
   "cell_type": "markdown",
   "id": "f1402fb5",
   "metadata": {
    "editable": true,
    "slideshow": {
     "slide_type": "slide"
    },
    "tags": []
   },
   "source": [
    "## Bonus deploy in container using WAR\n",
    ":::{.fragment}\n",
    "```bash\n",
    "docker build . -f Dockerfile -t simpleservlet\n",
    "docker run -p 9000:8080 simpleservlet\n",
    "```\n",
    "\n",
    "http://localhost:9000/simple-servlet/\n",
    ":::"
   ]
  },
  {
   "cell_type": "markdown",
   "id": "75766ddf",
   "metadata": {
    "editable": true,
    "slideshow": {
     "slide_type": "subslide"
    },
    "tags": []
   },
   "source": [
    "## References\n",
    "- https://www.theserverside.com/news/1363671/What-is-an-App-Server\n",
    "- https://www.infoworld.com/article/2077354/app-server-web-server-what-s-the-difference.html\n",
    "- https://www.infoworld.com/article/2076845/application-servers--an-introduction.html\n",
    "- https://serverguy.com/servers/open-source-java-ee-application-servers/\n",
    "- https://javapipe.com/blog/tomcat-application-server/\n",
    "- https://javaee.github.io/tutorial/packaging003.html#BCGHAHGD\n",
    "- https://www.geeksforgeeks.org/servlet-war-file/\n",
    "- https://www.baeldung.com/java-jar-war-packaging"
   ]
  },
  {
   "cell_type": "markdown",
   "id": "61cbc9e8",
   "metadata": {
    "slideshow": {
     "slide_type": "subslide"
    }
   },
   "source": [
    "\n"
   ]
  }
 ],
 "metadata": {
  "celltoolbar": "Slideshow",
  "kernelspec": {
   "display_name": "Python 3 (ipykernel)",
   "language": "python",
   "name": "python3"
  },
  "language_info": {
   "codemirror_mode": {
    "name": "ipython",
    "version": 3
   },
   "file_extension": ".py",
   "mimetype": "text/x-python",
   "name": "python",
   "nbconvert_exporter": "python",
   "pygments_lexer": "ipython3",
   "version": "3.12.3"
  },
  "rise": {
   "autolaunch": true,
   "enable_chalkboard": "true",
   "footer": "<div class=\"tswd-footer\"> *** TSWD - 2023 ***</div>",
   "header": "<div class=\"tswd-header\"></div>",
   "scroll": true,
   "theme": "white"
  }
 },
 "nbformat": 4,
 "nbformat_minor": 5
}
