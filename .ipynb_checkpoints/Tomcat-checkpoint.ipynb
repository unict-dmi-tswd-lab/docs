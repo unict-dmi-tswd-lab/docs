{
 "cells": [
  {
   "cell_type": "raw",
   "id": "5b0c7de7-add2-4761-ac5a-a3ead17c17ae",
   "metadata": {
    "editable": true,
    "raw_mimetype": "",
    "slideshow": {
     "slide_type": ""
    },
    "tags": []
   },
   "source": [
    "---\n",
    "title: \"Tomcat\"\n",
    "author: \"Salvo Nicotra\"\n",
    "format: revealjs\n",
    "incremental: true  \n",
    "theme: white\n",
    "chalkboard: true\n",
    "css: style.css\n",
    "smaller: true\n",
    "# scrollable: true\n",
    "include-before: |\n",
    "    <img src=\"images/unict-logo.png\" class=\"custom-logo\" alt=\"Logo\">\n",
    "include-after: |\n",
    "      <div class=\"custom-footer\">\n",
    "        *** Web and Service Oriented Systems and Laboratory (WSOS) - 2024/2025 ***\n",
    "      </div>\n",
    "---"
   ]
  },
  {
   "cell_type": "markdown",
   "id": "a05c9530",
   "metadata": {
    "editable": true,
    "slideshow": {
     "slide_type": "slide"
    },
    "tags": []
   },
   "source": [
    "# Tomcat and its friends\n",
    "\n",
    ":::{.fragment}\n",
    "![](images/Tom-and-jerry-1-.webp)\n",
    ":::"
   ]
  },
  {
   "cell_type": "markdown",
   "id": "20262a5a-539c-4319-9240-2387443592d9",
   "metadata": {
    "editable": true,
    "slideshow": {
     "slide_type": ""
    },
    "tags": []
   },
   "source": []
  },
  {
   "cell_type": "markdown",
   "id": "2ab6832e",
   "metadata": {
    "editable": true,
    "slideshow": {
     "slide_type": "fragment"
    },
    "tags": []
   },
   "source": [
    "## What is Tomcat ?\n",
    ":::: {.columns}\n",
    "\n",
    "::: {.fragment .column width=\"50%\"}\n",
    "\n",
    "The Apache Tomcat® software is an open source implementation of the Jakarta Servlet, Jakarta Server Pages, Jakarta Expression Language, Jakarta WebSocket, Jakarta Annotations and Jakarta Authentication specifications. These specifications are part of the [Jakarta EE platform](https://projects.eclipse.org/projects/ee4j.jakartaee-platform).\n",
    "\n",
    "::: \n",
    "\n",
    "::: {.fragment .column width=\"50%\"}\n",
    "\n",
    "He (James Duncan Davidson) came up with \"Tomcat\" since the animal represented something that could take care of itself and fend for itself. That's how he came up with the name.\n",
    "\n",
    "![](https://tomcat.apache.org/res/images/tomcat.png)\n",
    ":::\n",
    "::::\n"
   ]
  },
  {
   "cell_type": "markdown",
   "id": "417a7d56",
   "metadata": {
    "slideshow": {
     "slide_type": "slide"
    }
   },
   "source": [
    "### What is Jakarta ?\n",
    ":::: {.columns}\n",
    "\n",
    "::: {.fragment .column width=\"50%\"}\n",
    "<https://en.wikipedia.org/wiki/Jakarta_EE>\n",
    "\n",
    "- Jakarta EE, formerly Java Platform, Enterprise Edition (Java EE) and Java 2 Platform, Enterprise Edition (J2EE), is a set of specifications, extending Java SE with specifications for enterprise features such as *distributed computing* and *web services*.\n",
    "\n",
    "- Jakarta EE applications are run on reference *runtimes*, which can be *microservices* or *application servers*, which handle transactions, security, scalability, concurrency and management of the components they are deploying.\n",
    "\n",
    "::: \n",
    "\n",
    "::: {.fragment  .column width=\"50%\"}\n",
    "![](https://upload.wikimedia.org/wikipedia/commons/8/81/Jakarta_ee_logo_schooner_color_stacked_default.svg)\n",
    ":::\n",
    "::::"
   ]
  },
  {
   "cell_type": "markdown",
   "id": "0fcdca7b",
   "metadata": {
    "slideshow": {
     "slide_type": "slide"
    }
   },
   "source": [
    "# Is Tomcat an application server ?"
   ]
  },
  {
   "cell_type": "markdown",
   "id": "9493285f",
   "metadata": {
    "cell_style": "center",
    "slideshow": {
     "slide_type": "subslide"
    }
   },
   "source": [
    "![](https://i.imgflip.com/6zpkyh.jpg)\n",
    "[NicsMeme](https://imgflip.com/i/6zpkyh)"
   ]
  },
  {
   "cell_type": "markdown",
   "id": "811e7ea6",
   "metadata": {
    "editable": true,
    "slideshow": {
     "slide_type": "slide"
    },
    "tags": []
   },
   "source": [
    "## What is an application server ?"
   ]
  },
  {
   "cell_type": "markdown",
   "id": "40731ccd-ec7d-4c35-81bc-fc2466affc3f",
   "metadata": {
    "editable": true,
    "slideshow": {
     "slide_type": "subslide"
    },
    "tags": []
   },
   "source": [
    "### Wikipedia\n",
    ":::{.fragment}\n",
    "![](images/wikipedia-applicationserver.png)\n",
    ":::"
   ]
  },
  {
   "cell_type": "markdown",
   "id": "9d4129cd",
   "metadata": {
    "editable": true,
    "slideshow": {
     "slide_type": "slide"
    },
    "tags": []
   },
   "source": [
    "## Encyclopedia of Database Systems. Springer\n",
    "A definition from \n",
    "> Schuldt, H. (2018). Application Server. In: Liu, L., Özsu, M.T. (eds) Encyclopedia of Database Systems. Springer, New York, NY. https://doi.org/10.1007/978-1-4614-8265-9_665\n",
    "\n",
    "### Synonyms\n",
    "Web application server; Java application server \n",
    "\n",
    "### Definition\n",
    "An Application Server is a dedicated software component in a three-tier or multi-tier architecture which provides application logic (business logic) and which allows for the separation of application logic from user interface functionality (client layer), delivery of data (web server), and data management (database server)."
   ]
  },
  {
   "cell_type": "markdown",
   "id": "33ee5d06",
   "metadata": {
    "editable": true,
    "slideshow": {
     "slide_type": "slide"
    },
    "tags": []
   },
   "source": [
    "### Key Points"
   ]
  },
  {
   "cell_type": "markdown",
   "id": "7f640bc4",
   "metadata": {
    "slideshow": {
     "slide_type": "subslide"
    }
   },
   "source": [
    "Modern information systems, especially information systems on the web, follow an architectural paradigm\n",
    "that is based on a separation of concerns. In contrast to monolithic (single tier) architectures or two-tier client/ server architectures where business logic is bundled with other functionality, three-tier or multi-tier architectures consider dedicated application servers which exclusively focus on providing business logic."
   ]
  },
  {
   "cell_type": "markdown",
   "id": "3eafd08b",
   "metadata": {
    "editable": true,
    "slideshow": {
     "slide_type": "subslide"
    },
    "tags": []
   },
   "source": [
    "In three-tier or multi-tier architectures, application servers typically make use of several middleware services which enable the communication within and between layers. Application servers usually provide the basis for the execution of distributed applications with transactional guarantees on top of persistent data. In large-scale deployments, systems might encompass several instances of application servers (application server clusters). This allows for the distribution of client requests across application server instances for the purpose of load balancing."
   ]
  },
  {
   "cell_type": "markdown",
   "id": "939e070d",
   "metadata": {
    "editable": true,
    "slideshow": {
     "slide_type": "subslide"
    },
    "tags": []
   },
   "source": [
    "Early application servers evolved from distributed TP Monitors. Over time, a large variety of application servers has emerged. The most prominent class con- sists of Java application servers, either as stand-alone servers or embedded in large software systems."
   ]
  },
  {
   "cell_type": "markdown",
   "id": "a8f30fd6",
   "metadata": {
    "slideshow": {
     "slide_type": "slide"
    }
   },
   "source": [
    "# Real Life"
   ]
  },
  {
   "cell_type": "markdown",
   "id": "60deec7d",
   "metadata": {
    "cell_style": "center",
    "slideshow": {
     "slide_type": "subslide"
    }
   },
   "source": [
    "> Whichever the case, the truth though is that even though Tomcat cannot be technically defined as an application server, it is continuously and successfully being used as an application server for millions of mission-critical applications on a daily basis. The jury is still out there.\n",
    "\n",
    "https://javapipe.com/blog/tomcat-application-server/"
   ]
  },
  {
   "cell_type": "markdown",
   "id": "f0e60d76",
   "metadata": {
    "cell_style": "split",
    "slideshow": {
     "slide_type": "subslide"
    }
   },
   "source": [
    "![](images/java-developer-productivity-2022.png)\n",
    "\n",
    "https://www.jrebel.com/success/java-developer-productivity-report-2022"
   ]
  },
  {
   "cell_type": "markdown",
   "id": "56585255",
   "metadata": {
    "cell_style": "split",
    "slideshow": {
     "slide_type": "fragment"
    }
   },
   "source": [
    "![](images/java-developer-productivity-2023.png)\n",
    "\n",
    "https://www.jrebel.com/success/java-developer-productivity-report-2023"
   ]
  },
  {
   "cell_type": "markdown",
   "id": "54335580",
   "metadata": {
    "slideshow": {
     "slide_type": "subslide"
    }
   },
   "source": [
    "## Web and Application Servers for Java\n",
    "https://www.baeldung.com/java-servers"
   ]
  },
  {
   "cell_type": "markdown",
   "id": "0510b401",
   "metadata": {
    "slideshow": {
     "slide_type": "fragment"
    }
   },
   "source": [
    "1. [Apache Tomcat](http://tomcat.apache.org/)\n",
    "2. [Eclipse Jetty](https://eclipse.dev/jetty/)\n",
    "3. ✝[TomEE](https://tomee.apache.org/)\n",
    "4. ✝[Oracle WebLogic](http://www.oracle.com/technetwork/middleware/weblogic/overview/index.html)\n",
    "5. ✝[WebSphere](https://www.ibm.com/products/websphere-application-server)\n",
    "6. [WildFly](http://wildfly.org/)\n",
    "7. ✝[Apache Geronimo](https://geronimo.apache.org)\n",
    "8. [Eclipse GlassFish](https://projects.eclipse.org/projects/ee4j.glassfish)"
   ]
  },
  {
   "cell_type": "markdown",
   "id": "83c8f539",
   "metadata": {
    "slideshow": {
     "slide_type": "slide"
    }
   },
   "source": [
    "# The reference Framework\n",
    "## Jakarta EE"
   ]
  },
  {
   "cell_type": "markdown",
   "id": "50c8ecc2",
   "metadata": {
    "slideshow": {
     "slide_type": "subslide"
    }
   },
   "source": [
    "| Platform version | Released       | Specification | Java SESupport        | Important Changes                                                                                                   |\n",
    "|------------------|----------------|---------------|-----------------------|---------------------------------------------------------------------------------------------------------------------|\n",
    "| [Jakarta EE 11](https://jakarta.ee/specifications/platform/11/)    | Under Development    | 11            | Java SE 21 | Support for Java Records, Virtual Threads, Jakarta Data 1.0 |\n",
    "| Jakarta EE 10    | 2022-09-13     | 10            | Java SE 17 Java SE 11 | Removal of deprecated items in Servlet, Faces, CDI and EJB (Entity Beans and Embeddable Container). CDI-Build Time. |\n",
    "| Jakarta EE 9.1   | 2021-05-25     | 9.1           | Java SE 11 Java SE 8  | JDK 11 support                                                                                                       |\n",
    "| Jakarta EE 9     | 2020-12-08     | 9             | Java SE 8             | API namespace move from javax to jakarta                                                                             |\n",
    "| Jakarta EE 8     | 2019-09-10     | 8             | Java SE 8             | Full compatibility with Java EE 8                                                                                   |\n",
    "| Java EE 8        | 2017-08-31     | JSR 366       | Java SE 8             | HTTP/2 and CDI based Security                                                                                       |\n",
    "| Java EE 7        | 2013-05-28     | JSR 342       | Java SE 7             | WebSocket, JSON and HTML5 support                                                                                   |\n",
    "| Java EE 6        | 2009-12-10     | JSR 316       | Java SE 6             | CDI managed Beans and REST                                                                                           |\n",
    "| Java EE 5        | 2006-05-11     | JSR 244       | Java SE 5             | Java annotations                                                                                                     |\n",
    "| J2EE 1.4         | 2003-11-11     | JSR 151       | J2SE 1.4              | WS-I interoperable web services[13]                                                                                 |\n",
    "| J2EE 1.3         | 2001-09-24     | JSR 58        | J2SE 1.3              | Java connector architecture[14]                                                                                     |\n",
    "| J2EE 1.2         | 1999-12-17     | 1.2           | J2SE 1.2              | Initial specification release  \n",
    "\n",
    "[Source](https://en.wikipedia.org/wiki/Jakarta_EE)"
   ]
  },
  {
   "cell_type": "markdown",
   "id": "eb93e870",
   "metadata": {
    "slideshow": {
     "slide_type": "slide"
    }
   },
   "source": [
    "# Back to Tomcat"
   ]
  },
  {
   "cell_type": "markdown",
   "id": "da32e2be",
   "metadata": {
    "slideshow": {
     "slide_type": "slide"
    }
   },
   "source": [
    "## Let's make it run"
   ]
  },
  {
   "cell_type": "markdown",
   "id": "bd22ad4a",
   "metadata": {
    "slideshow": {
     "slide_type": "subslide"
    }
   },
   "source": [
    "# 1. Local / VM"
   ]
  },
  {
   "cell_type": "markdown",
   "id": "9664e250",
   "metadata": {
    "slideshow": {
     "slide_type": "subslide"
    }
   },
   "source": [
    "### Read the () docs\n",
    "Download : https://tomcat.apache.org/download-10.cgi\n",
    "\n",
    "Setup: https://tomcat.apache.org/tomcat-10.1-doc/setup.html\n",
    "\n",
    "Run: \n",
    "```bash\n",
    "Using CATALINA_BASE:   /Users/nics/Dev/apache-tomcat-10.1.15\n",
    "Using CATALINA_HOME:   /Users/nics/Dev/apache-tomcat-10.1.15\n",
    "Using CATALINA_TMPDIR: /Users/nics/Dev/apache-tomcat-10.1.15/temp\n",
    "Using JRE_HOME:        /Library/Java/JavaVirtualMachines/zulu-21.jdk/Contents/Home\n",
    "Using CLASSPATH:       /Users/nics/Dev/apache-tomcat-10.1.15/bin/bootstrap.jar:/Users/nics/Dev/apache-tomcat-10.1.15/bin/tomcat-juli.jar\n",
    "Using CATALINA_OPTS:\n",
    "Tomcat started.\n",
    "```\n",
    "\n",
    "Use:\n",
    "http://localhost:8080"
   ]
  },
  {
   "cell_type": "markdown",
   "id": "e0e12a25",
   "metadata": {
    "cell_style": "split",
    "slideshow": {
     "slide_type": "subslide"
    }
   },
   "source": [
    "## Run in Code\n",
    "After installed is possibile to add tomcat (we will see in the next lesson)"
   ]
  },
  {
   "cell_type": "markdown",
   "id": "c36615ac",
   "metadata": {
    "cell_style": "split",
    "slideshow": {
     "slide_type": "fragment"
    }
   },
   "source": [
    "![](https://i.imgflip.com/71z09a.jpg)\n",
    "[NicsMeme](https://imgflip.com/i/71z09a)"
   ]
  },
  {
   "cell_type": "markdown",
   "id": "7c0a7b2a",
   "metadata": {
    "slideshow": {
     "slide_type": "slide"
    }
   },
   "source": [
    "# 2. Docker"
   ]
  },
  {
   "cell_type": "markdown",
   "id": "5824b152",
   "metadata": {
    "slideshow": {
     "slide_type": "fragment"
    }
   },
   "source": [
    "Simply run\n",
    "```bash\n",
    "docker run -it --rm -p 9001:8080 tomcat:10.1.5\n",
    "```"
   ]
  },
  {
   "cell_type": "markdown",
   "id": "2be42c42",
   "metadata": {
    "slideshow": {
     "slide_type": "fragment"
    }
   },
   "source": [
    "Then go to http://localhost:9001"
   ]
  },
  {
   "cell_type": "markdown",
   "id": "f26b15b7",
   "metadata": {
    "slideshow": {
     "slide_type": "subslide"
    }
   },
   "source": [
    "![](https://i.imgflip.com/6zqjsr.jpg)\n",
    "\n",
    "[NicsMeme](https://imgflip.com/i/6zqjsr)"
   ]
  },
  {
   "cell_type": "markdown",
   "id": "bc9e6715",
   "metadata": {
    "cell_style": "split",
    "slideshow": {
     "slide_type": "subslide"
    }
   },
   "source": [
    "### The Reason \n",
    "Due to https://tomcat.apache.org/tomcat-10.0-doc/security-howto.html#Default_web_applications\n",
    "\n",
    "Default Web Apps are disabled\n",
    "https://github.com/docker-library/tomcat/pull/181"
   ]
  },
  {
   "cell_type": "markdown",
   "id": "36e58cb5",
   "metadata": {
    "cell_style": "split",
    "slideshow": {
     "slide_type": "fragment"
    }
   },
   "source": [
    "### A solution for testing\n",
    "https://charith.xyz/docker/accessing-tomcat-manager-of-an-app-deployed-on-docker/"
   ]
  },
  {
   "cell_type": "markdown",
   "id": "0d5f0594",
   "metadata": {
    "slideshow": {
     "slide_type": "slide"
    }
   },
   "source": [
    "# 3. Cloud"
   ]
  },
  {
   "cell_type": "markdown",
   "id": "da646d9a",
   "metadata": {
    "slideshow": {
     "slide_type": "slide"
    }
   },
   "source": [
    "# PaaS"
   ]
  },
  {
   "cell_type": "markdown",
   "id": "c41b7729",
   "metadata": {
    "cell_style": "split",
    "slideshow": {
     "slide_type": "subslide"
    }
   },
   "source": [
    "## Azure App Services\n",
    "https://azure.microsoft.com/en-us/products/app-service/#overview\n",
    "\n",
    "https://learn.microsoft.com/en-us/azure/app-service/quickstart-java?tabs=tomcat&pivots=platform-linux-development-environment-maven\n",
    "\n",
    "\n"
   ]
  },
  {
   "cell_type": "markdown",
   "id": "9fc8708f",
   "metadata": {
    "cell_style": "split",
    "slideshow": {
     "slide_type": "fragment"
    }
   },
   "source": [
    "![](images/app-services-tomcat.png)"
   ]
  },
  {
   "cell_type": "markdown",
   "id": "6c9fb4c3",
   "metadata": {
    "cell_style": "split",
    "slideshow": {
     "slide_type": "subslide"
    }
   },
   "source": [
    "## Elastic Beanstalk\n",
    "https://aws.amazon.com/elasticbeanstalk/?nc1=h_ls\n",
    "\n",
    "https://docs.aws.amazon.com/elasticbeanstalk/latest/dg/java-tomcat-platform.html\n",
    "\n",
    "https://docs.aws.amazon.com/elasticbeanstalk/latest/dg/create_deploy_Java.html"
   ]
  },
  {
   "cell_type": "markdown",
   "id": "1a38534a",
   "metadata": {
    "cell_style": "split",
    "slideshow": {
     "slide_type": "fragment"
    }
   },
   "source": [
    "![](images/elastic-beanstalk-tomcat.png)"
   ]
  },
  {
   "cell_type": "markdown",
   "id": "6a58ef73",
   "metadata": {
    "cell_style": "split",
    "slideshow": {
     "slide_type": "subslide"
    }
   },
   "source": [
    "## App Engine\n",
    "https://cloud.google.com/appengine\n",
    "\n",
    "https://github.com/GoogleCloudPlatform/tomcat-runtime\n",
    "\n",
    "https://cloud.google.com/blog/topics/developers-practitioners/introducing-google-clouds-tomcat-migration-tooling"
   ]
  },
  {
   "cell_type": "markdown",
   "id": "5cc76ea6",
   "metadata": {
    "cell_style": "split",
    "slideshow": {
     "slide_type": "fragment"
    }
   },
   "source": [
    "![](https://cloud.google.com/static/migrate/containers/docs/images/windows-migration-steps.svg)"
   ]
  },
  {
   "cell_type": "markdown",
   "id": "69b4f0e8",
   "metadata": {
    "slideshow": {
     "slide_type": "subslide"
    }
   },
   "source": [
    "## Iaas"
   ]
  },
  {
   "cell_type": "markdown",
   "id": "b742e595",
   "metadata": {
    "slideshow": {
     "slide_type": "fragment"
    }
   },
   "source": [
    "Same as install with a need of a Load Balancer on top"
   ]
  },
  {
   "cell_type": "markdown",
   "id": "fec6478c",
   "metadata": {
    "slideshow": {
     "slide_type": "subslide"
    }
   },
   "source": [
    "## Caas/Kaas"
   ]
  },
  {
   "cell_type": "markdown",
   "id": "2b5d57fd",
   "metadata": {
    "slideshow": {
     "slide_type": "fragment"
    }
   },
   "source": [
    "https://www.xenonstack.com/blog/caas-vs-paas"
   ]
  },
  {
   "cell_type": "markdown",
   "id": "630fa551",
   "metadata": {
    "slideshow": {
     "slide_type": "slide"
    }
   },
   "source": [
    "# Tomcat Default Applications\n",
    "\n",
    "https://tomcat.apache.org/tomcat-10.1-doc/security-howto.html#Default_web_applications"
   ]
  },
  {
   "cell_type": "markdown",
   "id": "07232e05",
   "metadata": {
    "slideshow": {
     "slide_type": "slide"
    }
   },
   "source": [
    "# Tomcat Architecture"
   ]
  },
  {
   "cell_type": "markdown",
   "id": "183c5299",
   "metadata": {
    "slideshow": {
     "slide_type": "subslide"
    }
   },
   "source": [
    "![](https://www.atatus.com/blog/content/images/2022/02/Tomcat-architecture.png)\n",
    "\n",
    "https://www.atatus.com/blog/tomcat-performance-monitoring/#Tomcat%20Server%20Architecture"
   ]
  },
  {
   "cell_type": "markdown",
   "id": "4dd2d851",
   "metadata": {
    "slideshow": {
     "slide_type": "slide"
    }
   },
   "source": [
    "# Tomcat Configuration"
   ]
  },
  {
   "cell_type": "markdown",
   "id": "61012d9d",
   "metadata": {
    "slideshow": {
     "slide_type": "fragment"
    }
   },
   "source": [
    "https://miro.com/app/board/uXjVPGAqjEk=/"
   ]
  },
  {
   "cell_type": "markdown",
   "id": "50f74556",
   "metadata": {},
   "source": [
    "## Enabling virtual threads"
   ]
  },
  {
   "cell_type": "markdown",
   "id": "309f59db",
   "metadata": {
    "slideshow": {
     "slide_type": "slide"
    }
   },
   "source": [
    "# Deployment\n",
    "https://tomcat.apache.org/tomcat-10.0-doc/appdev/deployment.html#Deployment_With_Tomcat"
   ]
  },
  {
   "cell_type": "markdown",
   "id": "54ab89ab",
   "metadata": {
    "slideshow": {
     "slide_type": "subslide"
    }
   },
   "source": [
    "Copy unpacked directory hierarchy into a subdirectory in directory $CATALINA_BASE/webapps/. Tomcat will assign a context path to your application based on the subdirectory name you choose. We will use this technique in the build.xml file that we construct, because it is the quickest and easiest approach during development. Be sure to restart Tomcat after installing or updating your application."
   ]
  },
  {
   "cell_type": "markdown",
   "id": "380b5385",
   "metadata": {
    "slideshow": {
     "slide_type": "subslide"
    }
   },
   "source": [
    "Copy the web application archive file into directory $CATALINA_BASE/webapps/. When Tomcat is started, it will automatically expand the web application archive file into its unpacked form, and execute the application that way. This approach would typically be used to install an additional application, provided by a third party vendor or by your internal development staff, into an existing Tomcat installation. NOTE - If you use this approach, and wish to update your application later, you must both replace the web application archive file AND delete the expanded directory that Tomcat created, and then restart Tomcat, in order to reflect your changes."
   ]
  },
  {
   "cell_type": "markdown",
   "id": "fd55bf5e",
   "metadata": {
    "slideshow": {
     "slide_type": "subslide"
    }
   },
   "source": [
    "Use the Tomcat \"Manager\" web application to deploy and undeploy web applications. Tomcat includes a web application, deployed by default on context path /manager, that allows you to deploy and undeploy applications on a running Tomcat server without restarting it. See Manager App How-To for more information on using the Manager web application."
   ]
  },
  {
   "cell_type": "markdown",
   "id": "f61a2758",
   "metadata": {
    "slideshow": {
     "slide_type": "slide"
    }
   },
   "source": [
    "# A Basic Example\n"
   ]
  },
  {
   "cell_type": "markdown",
   "id": "ace6d22f",
   "metadata": {
    "slideshow": {
     "slide_type": "subslide"
    }
   },
   "source": [
    "## Clone Repository\n",
    "https://github.com/unict-dmi-tswd-lab/simple-servlet"
   ]
  },
  {
   "cell_type": "markdown",
   "id": "b8a7a525",
   "metadata": {
    "slideshow": {
     "slide_type": "subslide"
    }
   },
   "source": [
    "## Compile\n",
    "```bash\n",
    "# Change servlet-api location to proper place\n",
    "javac -cp /Users/nics/Dev/apache-tomcat-10.0.27/lib/servlet-api.jar SimpleServlet.java \n",
    "\n",
    "/Users/nics/Library/Java/JavaVirtualMachines/liberica-11.0.15/bin/javac  -cp /Users/nics/Dev/apache-tomcat-10.0.27/lib/servlet-api.jar SimpleServlet.java\n",
    "```"
   ]
  },
  {
   "cell_type": "markdown",
   "id": "0281f99f",
   "metadata": {
    "slideshow": {
     "slide_type": "subslide"
    }
   },
   "source": [
    "## Start tomcat\n",
    "```bash\n",
    "cd /Users/nics/Dev/apache-tomcat-10.0.27/\n",
    "./bin/startup.sh\n",
    "```"
   ]
  },
  {
   "cell_type": "markdown",
   "id": "b46b0789",
   "metadata": {
    "slideshow": {
     "slide_type": "subslide"
    }
   },
   "source": [
    "## Deploy Simple Servlet\n",
    "```bash\n",
    "rm -rf /Users/nics/Dev/apache-tomcat-10.0.27/webapps/simple-servlet\n",
    "cp -r simple-servlet /Users/nics/Dev/apache-tomcat-10.0.27/webapps \n",
    "```"
   ]
  },
  {
   "cell_type": "markdown",
   "id": "616f418e",
   "metadata": {
    "slideshow": {
     "slide_type": "subslide"
    }
   },
   "source": [
    "## Check Logs\n",
    "```bash\n",
    "24-Nov-2022 20:33:57.257 INFO [Catalina-utility-2] org.apache.catalina.startup.HostConfig.deployDirectory Deploying web application directory [/Users/nics/Dev/apache-tomcat-10.0.27/webapps/simple-servlet]\n",
    "24-Nov-2022 20:33:57.292 INFO [Catalina-utility-2] org.apache.catalina.startup.HostConfig.deployDirectory Deployment of web application directory [/Users/nics/Dev/apache-tomcat-10.0.27/webapps/simple-servlet] has finished in [36] ms\n",
    "```"
   ]
  },
  {
   "cell_type": "markdown",
   "id": "a3528a96",
   "metadata": {
    "slideshow": {
     "slide_type": "subslide"
    }
   },
   "source": [
    "## Open Web App\n",
    "http://localhost:8080/simple-servlet/"
   ]
  },
  {
   "cell_type": "markdown",
   "id": "75aec675",
   "metadata": {
    "slideshow": {
     "slide_type": "slide"
    }
   },
   "source": [
    "# Packaging"
   ]
  },
  {
   "cell_type": "markdown",
   "id": "c671aa43",
   "metadata": {
    "slideshow": {
     "slide_type": "slide"
    }
   },
   "source": [
    "# WAR"
   ]
  },
  {
   "cell_type": "markdown",
   "id": "93ea3ede",
   "metadata": {
    "cell_style": "center",
    "slideshow": {
     "slide_type": "subslide"
    }
   },
   "source": [
    "## Not very different from a JAR file"
   ]
  },
  {
   "cell_type": "markdown",
   "id": "63c12059",
   "metadata": {
    "cell_style": "split",
    "slideshow": {
     "slide_type": "subslide"
    }
   },
   "source": [
    "```bash\n",
    "cd /Users/nics/Dev/GitHub/tswd-workspace/simple-servlet\n",
    "jar -cvf simple-servlet.war *\n",
    "\n",
    "```"
   ]
  },
  {
   "cell_type": "markdown",
   "id": "925248cd",
   "metadata": {
    "cell_style": "split",
    "slideshow": {
     "slide_type": "fragment"
    }
   },
   "source": [
    "```bash\n",
    "added manifest\n",
    "adding: WEB-INF/(in = 0) (out= 0)(stored 0%)\n",
    "adding: WEB-INF/classes/(in = 0) (out= 0)(stored 0%)\n",
    "adding: WEB-INF/classes/SimpleServlet.class(in = 1348) (out= 722)(deflated 46%)\n",
    "adding: WEB-INF/classes/SimpleServlet.java(in = 951) (out= 409)(deflated 56%)\n",
    "adding: WEB-INF/web.xml(in = 234) (out= 102)(deflated 56%)\n",
    "adding: index.html(in = 176) (out= 121)(deflated 31%)\n",
    "```"
   ]
  },
  {
   "cell_type": "markdown",
   "id": "05711549",
   "metadata": {
    "slideshow": {
     "slide_type": "subslide"
    }
   },
   "source": [
    "## Just a zip file"
   ]
  },
  {
   "cell_type": "markdown",
   "id": "38f037f8",
   "metadata": {
    "cell_style": "center",
    "slideshow": {
     "slide_type": "subslide"
    }
   },
   "source": [
    "```bash\n",
    "% unzip -t simple-servlet.war\n",
    "Archive:  simple-servlet.war\n",
    "    testing: META-INF/                OK\n",
    "    testing: META-INF/MANIFEST.MF     OK\n",
    "    testing: WEB-INF/                 OK\n",
    "    testing: WEB-INF/classes/         OK\n",
    "    testing: WEB-INF/classes/SimpleServlet.class   OK\n",
    "    testing: WEB-INF/classes/SimpleServlet.java   OK\n",
    "    testing: WEB-INF/web.xml          OK\n",
    "    testing: index.html               OK\n",
    "No errors detected in compressed data of simple-servlet.war.\n",
    "```"
   ]
  },
  {
   "cell_type": "markdown",
   "id": "95b67a9b",
   "metadata": {
    "slideshow": {
     "slide_type": "slide"
    }
   },
   "source": [
    "## But with a specific goal "
   ]
  },
  {
   "cell_type": "markdown",
   "id": "98f0cb62",
   "metadata": {
    "slideshow": {
     "slide_type": "slide"
    }
   },
   "source": [
    "> Learning Java An Introduction to Real-World Programming with Java"
   ]
  },
  {
   "cell_type": "markdown",
   "id": "46c493b3",
   "metadata": {
    "slideshow": {
     "slide_type": "subslide"
    }
   },
   "source": [
    "In the context of the Java Servlet API, a web application is a collection of servlets and\n",
    "Java web services that support Java classes, content such as HTML, Java Server Pages\n",
    "(JSP), images or other media, and configuration information. \n",
    "For deployment (installation on a web server), a web application is bundled into a WAR file."
   ]
  },
  {
   "cell_type": "markdown",
   "id": "266633ad",
   "metadata": {
    "slideshow": {
     "slide_type": "subslide"
    }
   },
   "source": [
    "The important thing is that the standardization of WAR files means not only that the Java code\n",
    "is portable, but also that the process of deploying the application to a server is\n",
    "standardized."
   ]
  },
  {
   "cell_type": "markdown",
   "id": "318a65aa",
   "metadata": {
    "slideshow": {
     "slide_type": "slide"
    }
   },
   "source": [
    "# Deploy using War"
   ]
  },
  {
   "cell_type": "markdown",
   "id": "3ffa016d",
   "metadata": {
    "slideshow": {
     "slide_type": "subslide"
    }
   },
   "source": [
    "```bash\n",
    "cp simple-servlet.war /Users/nics/Dev/apache-tomcat-10.0.27/webapps/\n",
    "```"
   ]
  },
  {
   "cell_type": "markdown",
   "id": "6a867132",
   "metadata": {
    "slideshow": {
     "slide_type": "slide"
    }
   },
   "source": [
    "# Deploy using UI"
   ]
  },
  {
   "cell_type": "markdown",
   "id": "16cc7226",
   "metadata": {
    "slideshow": {
     "slide_type": "subslide"
    }
   },
   "source": [
    "http://localhost:8080/manager/html/list?"
   ]
  },
  {
   "cell_type": "markdown",
   "id": "f1402fb5",
   "metadata": {
    "slideshow": {
     "slide_type": "slide"
    }
   },
   "source": [
    "# Deploy using WAR"
   ]
  },
  {
   "cell_type": "markdown",
   "id": "6af99e51",
   "metadata": {
    "cell_style": "split",
    "slideshow": {
     "slide_type": "subslide"
    }
   },
   "source": [
    "```bash\n",
    "docker build . -f Dockerfile -t simpleservlet\n",
    "docker run -p 9000:8080 simpleservlet\n",
    "```"
   ]
  },
  {
   "cell_type": "markdown",
   "id": "b77ae626",
   "metadata": {
    "cell_style": "split",
    "slideshow": {
     "slide_type": "fragment"
    }
   },
   "source": [
    "http://localhost:9000/simple-servlet/"
   ]
  },
  {
   "cell_type": "markdown",
   "id": "75766ddf",
   "metadata": {
    "slideshow": {
     "slide_type": "subslide"
    }
   },
   "source": [
    "## References\n",
    "- https://www.theserverside.com/news/1363671/What-is-an-App-Server\n",
    "- https://www.infoworld.com/article/2077354/app-server-web-server-what-s-the-difference.html\n",
    "- https://www.infoworld.com/article/2076845/application-servers--an-introduction.html\n",
    "- https://serverguy.com/servers/open-source-java-ee-application-servers/\n",
    "- https://javapipe.com/blog/tomcat-application-server/\n",
    "- https://javaee.github.io/tutorial/packaging003.html#BCGHAHGD\n",
    "- https://www.geeksforgeeks.org/servlet-war-file/\n",
    "- https://www.baeldung.com/java-jar-war-packaging"
   ]
  },
  {
   "cell_type": "markdown",
   "id": "61cbc9e8",
   "metadata": {
    "slideshow": {
     "slide_type": "subslide"
    }
   },
   "source": [
    "\n"
   ]
  }
 ],
 "metadata": {
  "celltoolbar": "Slideshow",
  "kernelspec": {
   "display_name": "Python 3 (ipykernel)",
   "language": "python",
   "name": "python3"
  },
  "language_info": {
   "codemirror_mode": {
    "name": "ipython",
    "version": 3
   },
   "file_extension": ".py",
   "mimetype": "text/x-python",
   "name": "python",
   "nbconvert_exporter": "python",
   "pygments_lexer": "ipython3",
   "version": "3.10.12"
  },
  "rise": {
   "autolaunch": true,
   "enable_chalkboard": "true",
   "footer": "<div class=\"tswd-footer\"> *** TSWD - 2023 ***</div>",
   "header": "<div class=\"tswd-header\"></div>",
   "scroll": true,
   "theme": "white"
  }
 },
 "nbformat": 4,
 "nbformat_minor": 5
}
