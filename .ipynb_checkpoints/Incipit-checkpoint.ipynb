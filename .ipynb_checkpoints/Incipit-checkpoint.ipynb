{
 "cells": [
  {
   "cell_type": "raw",
   "id": "2cb76013-0b59-460d-b74a-ceb02190cc17",
   "metadata": {
    "editable": true,
    "raw_mimetype": "",
    "slideshow": {
     "slide_type": ""
    },
    "tags": []
   },
   "source": [
    "---\n",
    "title: \"WSOS\"\n",
    "author: \"Salvo Nicotra\"\n",
    "format: revealjs\n",
    "incremental: true  \n",
    "theme: white\n",
    "chalkboard: true\n",
    "css: style.css\n",
    "smaller: true\n",
    "# scrollable: true\n",
    "include-before: |\n",
    "    <img src=\"images/unict-logo.png\" class=\"custom-logo\" alt=\"Logo\">\n",
    "include-after: |\n",
    "      <div class=\"custom-footer\">\n",
    "        *** Web and Service Oriented Systems and Laboratory (WSOS) - 2024/2025 ***\n",
    "      </div>\n",
    "---"
   ]
  },
  {
   "cell_type": "markdown",
   "id": "8371ee4b",
   "metadata": {
    "editable": true,
    "slideshow": {
     "slide_type": "slide"
    },
    "tags": []
   },
   "source": [
    "# WEB AND SERVICE ORIENTED SYSTEMS AND LABORATORY - LAB\n",
    "\n",
    "[Syllabus](https://web.dmi.unict.it/corsi/l-31/insegnamenti?seuid=ECDA7A5E-B725-427E-AB24-39FDF7FE2C8F)"
   ]
  },
  {
   "cell_type": "markdown",
   "id": "d23d1b29",
   "metadata": {
    "editable": true,
    "slideshow": {
     "slide_type": "subslide"
    },
    "tags": []
   },
   "source": [
    "## Contacts \n",
    "\n",
    "- Teams 💬 /Email 📧 salvatore.nicotra1@unict.it\n",
    "\n",
    "- 🏢 Room 236-bis - Fri 14-15\n",
    "\n",
    "[About.me](https://about.me/snicotra/)"
   ]
  },
  {
   "cell_type": "markdown",
   "id": "0f94c0d8",
   "metadata": {
    "editable": true,
    "slideshow": {
     "slide_type": "subslide"
    },
    "tags": []
   },
   "source": [
    "## Lab Goal"
   ]
  },
  {
   "cell_type": "markdown",
   "id": "c45b8707",
   "metadata": {
    "editable": true,
    "slideshow": {
     "slide_type": "subslide"
    },
    "tags": []
   },
   "source": [
    "### Aspettative"
   ]
  },
  {
   "cell_type": "markdown",
   "id": "4fd4d3b9",
   "metadata": {
    "editable": true,
    "slideshow": {
     "slide_type": "fragment"
    },
    "tags": []
   },
   "source": [
    "::: {.fragment}\n",
    "![](https://i.imgflip.com/811h6g.jpg)\n",
    "[NicsMeme](https://imgflip.com/i/811h6g)\n",
    "::: "
   ]
  },
  {
   "cell_type": "markdown",
   "id": "398ab7ad",
   "metadata": {
    "editable": true,
    "slideshow": {
     "slide_type": "subslide"
    },
    "tags": []
   },
   "source": [
    "### Realtà"
   ]
  },
  {
   "cell_type": "markdown",
   "id": "9b3dfbca",
   "metadata": {
    "editable": true,
    "slideshow": {
     "slide_type": "fragment"
    },
    "tags": []
   },
   "source": [
    "::: {.fragment}\n",
    "![](https://i.imgflip.com/811hgd.jpg)\n",
    "[NicsMeme](https://imgflip.com/i/811hgd)\n",
    ":::"
   ]
  },
  {
   "cell_type": "markdown",
   "id": "a21e9467",
   "metadata": {
    "editable": true,
    "slideshow": {
     "slide_type": "subslide"
    },
    "tags": []
   },
   "source": [
    "### Behind the scene"
   ]
  },
  {
   "cell_type": "markdown",
   "id": "23afafc8",
   "metadata": {
    "editable": true,
    "slideshow": {
     "slide_type": "fragment"
    },
    "tags": []
   },
   "source": [
    "::: {.fragment}\n",
    "![](https://i.kym-cdn.com/photos/images/newsfeed/001/347/561/7e2.jpg)\n",
    ":::"
   ]
  },
  {
   "cell_type": "markdown",
   "id": "0933c49a",
   "metadata": {
    "editable": true,
    "slideshow": {
     "slide_type": "slide"
    },
    "tags": []
   },
   "source": [
    "# Topics\n",
    "https://miro.com/app/board/uXjVNf8LVV4=/?share_link_id=957338800058"
   ]
  },
  {
   "cell_type": "markdown",
   "id": "9526408e",
   "metadata": {
    "editable": true,
    "slideshow": {
     "slide_type": "fragment"
    },
    "tags": []
   },
   "source": [
    "::: {.fragment}\n",
    "![](images/Topics.jpg)\n",
    "::: "
   ]
  },
  {
   "cell_type": "markdown",
   "id": "435bb2a9",
   "metadata": {
    "editable": true,
    "slideshow": {
     "slide_type": "slide"
    },
    "tags": []
   },
   "source": [
    "# Tools"
   ]
  },
  {
   "cell_type": "markdown",
   "id": "e0be0ed7",
   "metadata": {
    "editable": true,
    "slideshow": {
     "slide_type": "subslide"
    },
    "tags": []
   },
   "source": [
    "## Java 21\n",
    "\n",
    "![](https://upload.wikimedia.org/wikipedia/it/thumb/2/2e/Java_Logo.svg/64px-Java_Logo.svg.png)\n",
    "\n",
    "- https://openjdk.org/projects/jdk/21/\n",
    "- https://medium.com/codex/the-new-features-of-java-21-e8311e73f837\n",
    "- https://en.wikipedia.org/wiki/Java_version_history\n",
    "- https://openjdk.org/projects/jdk/23/ ?"
   ]
  },
  {
   "cell_type": "markdown",
   "id": "8da32d66",
   "metadata": {
    "editable": true,
    "slideshow": {
     "slide_type": "subslide"
    },
    "tags": []
   },
   "source": [
    "## Visual Studio Code\n",
    "![](https://upload.wikimedia.org/wikipedia/commons/thumb/9/9a/Visual_Studio_Code_1.35_icon.svg/200px-Visual_Studio_Code_1.35_icon.svg.png)\n",
    "\n",
    "- https://code.visualstudio.com/\n",
    "- https://code.visualstudio.com/docs/java/extensions"
   ]
  },
  {
   "cell_type": "markdown",
   "id": "85357f33",
   "metadata": {
    "editable": true,
    "slideshow": {
     "slide_type": "subslide"
    },
    "tags": []
   },
   "source": [
    "## Github Organization\n",
    "\n",
    "\n",
    "[![github](https://github.githubassets.com/images/modules/logos_page/GitHub-Logo.png) https://github.com/unict-dmi-wsos/](https://github.com/unict-dmi-wsos/)\n",
    "\n"
   ]
  },
  {
   "cell_type": "markdown",
   "id": "af18e7a4",
   "metadata": {
    "editable": true,
    "slideshow": {
     "slide_type": "subslide"
    },
    "tags": []
   },
   "source": [
    "## Miro\n",
    "![](https://upload.wikimedia.org/wikipedia/en/thumb/9/9c/Mir_company_logo_with_text.tiff/lossless-page1-440px-Mir_company_logo_with_text.tiff.png)\n",
    "https://miro.com/\n"
   ]
  },
  {
   "cell_type": "markdown",
   "id": "69cc04d0",
   "metadata": {
    "slideshow": {
     "slide_type": "slide"
    }
   },
   "source": [
    "# Projects"
   ]
  },
  {
   "cell_type": "markdown",
   "id": "afe0b0c5",
   "metadata": {
    "slideshow": {
     "slide_type": "slide"
    }
   },
   "source": [
    "## WASD"
   ]
  },
  {
   "cell_type": "markdown",
   "id": "d111d0bc",
   "metadata": {
    "cell_style": "split",
    "editable": true,
    "slideshow": {
     "slide_type": "fragment"
    },
    "tags": []
   },
   "source": [
    "![](https://upload.wikimedia.org/wikipedia/commons/thumb/1/14/ASUS_ROG_Strix_G15_%28G513QY-HQ012T%29-top_keyboard_WASD_PNr°0888.jpg/440px-ASUS_ROG_Strix_G15_%28G513QY-HQ012T%29-top_keyboard_WASD_PNr°0888.jpg)\n",
    "\n"
   ]
  },
  {
   "cell_type": "markdown",
   "id": "954b457b-f55f-4681-a583-9a7c3d697c3e",
   "metadata": {
    "editable": true,
    "slideshow": {
     "slide_type": "slide"
    },
    "tags": []
   },
   "source": [
    "::: {.r-stretch}\n",
    "<iframe width=\"100%\" height=\"100%\" src=\"https://miro.com/app/live-embed/uXjVPHiNSlQ=/?moveToViewport=-1384,-932,3617,1856&embedId=181913612222\" frameborder=\"0\" scrolling=\"no\" allow=\"fullscreen; clipboard-read; clipboard-write\" allowfullscreen></iframe>\n",
    "\n",
    ":::"
   ]
  },
  {
   "cell_type": "code",
   "execution_count": null,
   "id": "ef7939b5-c123-4bb5-a5f3-a278d4618c1d",
   "metadata": {
    "editable": true,
    "slideshow": {
     "slide_type": ""
    },
    "tags": []
   },
   "outputs": [],
   "source": []
  }
 ],
 "metadata": {
  "celltoolbar": "Slideshow",
  "kernelspec": {
   "display_name": "Python 3 (ipykernel)",
   "language": "python",
   "name": "python3"
  },
  "language_info": {
   "codemirror_mode": {
    "name": "ipython",
    "version": 3
   },
   "file_extension": ".py",
   "mimetype": "text/x-python",
   "name": "python",
   "nbconvert_exporter": "python",
   "pygments_lexer": "ipython3",
   "version": "3.10.12"
  },
  "rise": {
   "autolaunch": true,
   "enable_chalkboard": "true",
   "footer": "<div class=\"tswd-footer\"> *** TSDW - Lab - 2024 ***</div>",
   "header": "<div class=\"tswd-header\"></div>",
   "scroll": true,
   "theme": "white"
  }
 },
 "nbformat": 4,
 "nbformat_minor": 5
}
