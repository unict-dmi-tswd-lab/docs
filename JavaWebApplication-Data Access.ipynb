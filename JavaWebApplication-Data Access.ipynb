{
 "cells": [
  {
   "cell_type": "raw",
   "id": "450ed105-521f-4340-94a5-9e99a9a4c229",
   "metadata": {},
   "source": [
    "---\n",
    "title: \"Java Web Application - Data Base\"\n",
    "author: \"Salvo Nicotra\"\n",
    "format: revealjs\n",
    "incremental: true  \n",
    "theme: white\n",
    "chalkboard: true\n",
    "css: style.css\n",
    "smaller: true\n",
    "# scrollable: true\n",
    "include-before: |\n",
    "    <img src=\"images/unict-logo.png\" class=\"custom-logo\" alt=\"Logo\">\n",
    "include-after: |\n",
    "      <div class=\"custom-footer\">\n",
    "        *** Web and Service Oriented Systems and Laboratory (WSOS) - 2024/2025 ***\n",
    "      </div>\n",
    "---"
   ]
  },
  {
   "cell_type": "markdown",
   "id": "a05c9530",
   "metadata": {
    "editable": true,
    "slideshow": {
     "slide_type": "slide"
    },
    "tags": []
   },
   "source": [
    "# Data Base connectivity"
   ]
  },
  {
   "cell_type": "markdown",
   "id": "f4998b4f",
   "metadata": {
    "slideshow": {
     "slide_type": "slide"
    }
   },
   "source": [
    "## JDBC\n",
    "\n",
    "> Java Database Connectivity (JDBC) is an application programming interface (API) for the Java programming language which defines how a client may access a database. It is a Java-based data access technology used for Java database connectivity. It is part of the Java Standard Edition platform, from Oracle Corporation. It provides methods to query and update data in a database, and is oriented toward relational databases. A JDBC-to-ODBC bridge enables connections to any ODBC-accessible data source in the Java virtual machine (JVM) host environment.\n",
    "\n",
    "https://en.wikipedia.org/wiki/Java_Database_Connectivity"
   ]
  },
  {
   "cell_type": "markdown",
   "id": "d5429917",
   "metadata": {
    "slideshow": {
     "slide_type": "slide"
    }
   },
   "source": [
    "# How JDBC Works\n",
    "https://www.baeldung.com/java-jdbc"
   ]
  },
  {
   "cell_type": "markdown",
   "id": "39963b5a",
   "metadata": {
    "editable": true,
    "slideshow": {
     "slide_type": "subslide"
    },
    "tags": []
   },
   "source": [
    "## JDBC Drivers\n",
    "\n",
    "The most commonly used type is JDBC 4: \n",
    "connect directly to a database by converting JDBC calls into database-specific calls; known as database protocol drivers or thin drivers.\n",
    "\n",
    ":::: {.columns}\n",
    "\n",
    "::: {.fragment .column width=\"50%\"}\n",
    "**Advantages**: platform-independent. Connecting directly to a database server provides better performance compared to other types.\n",
    "::: \n",
    "\n",
    "::: {.fragment .column width=\"50%\"}\n",
    "**Disadvantages**: Database-specific – given each database has its own specific protocol.\n",
    ":::\n",
    "::::\n"
   ]
  },
  {
   "cell_type": "markdown",
   "id": "1d17e3cb",
   "metadata": {
    "editable": true,
    "slideshow": {
     "slide_type": "subslide"
    },
    "tags": []
   },
   "source": [
    "## MySql connector \n",
    "MySql develops its connector (not only Java)\n",
    "\n",
    "<https://www.mysql.com/products/connector/>\n"
   ]
  },
  {
   "cell_type": "markdown",
   "id": "865b7c27",
   "metadata": {
    "editable": true,
    "slideshow": {
     "slide_type": "subslide"
    },
    "tags": []
   },
   "source": [
    "## Adding API to a Maven Project\n",
    "\n",
    "<https://mvnrepository.com/artifact/com.mysql/mysql-connector-j/8.2.0>\n",
    "\n",
    "```xml\n",
    "<dependency>\n",
    "    <groupId>com.mysql</groupId>\n",
    "    <artifactId>mysql-connector-j</artifactId>\n",
    "    <version>8.2.0</version>\n",
    "</dependency>\n",
    "```"
   ]
  },
  {
   "cell_type": "markdown",
   "id": "e6a3c862",
   "metadata": {
    "editable": true,
    "slideshow": {
     "slide_type": "subslide"
    },
    "tags": []
   },
   "source": [
    "## Driver Registration\n",
    "\n",
    "As of JDBC 4.0, all drivers that are found in the classpath are automatically loaded. \n",
    "\n",
    "Therefore, we won’t need this Class.forName part in modern environments.\n",
    "\n",
    "Before\n",
    "```java\n",
    "Class.forName(\"com.mysql.cj.jdbc.Driver\")\n",
    "``` "
   ]
  },
  {
   "cell_type": "markdown",
   "id": "735500e1",
   "metadata": {
    "editable": true,
    "slideshow": {
     "slide_type": "subslide"
    },
    "tags": []
   },
   "source": [
    "## Create connection\n",
    "\n",
    "To open a connection, we can use the getConnection() method of DriverManager class. \n",
    "\n",
    "This method requires a connection URL String parameter\n",
    "\n",
    "Mysql allows to specify credentials as parameters, or passed ad parameter in getConnection \n",
    "\n",
    "[Java doc](https://docs.oracle.com/en/java/javase/21/docs/api/java.sql/java/sql/DriverManager.html#getConnection(java.lang.String,java.lang.String,java.lang.String))"
   ]
  },
  {
   "cell_type": "markdown",
   "id": "e2a2c9be",
   "metadata": {
    "editable": true,
    "slideshow": {
     "slide_type": "subslide"
    },
    "tags": []
   },
   "source": [
    "### Example of JDBC connection in a Servlet\n",
    "```java\n",
    "\n",
    "import java.sql.Connection;\n",
    "import java.sql.DriverManager;\n",
    "import java.sql.SQLException;\n",
    "\n",
    "...\n",
    "    \n",
    "    Connection connnection; \n",
    "    final String connectionString = \"jdbc:mysql://localhost:3306/students?user=root&password=ruttolibero\";\n",
    "\n",
    "    public void init() {\n",
    "        System.out.println(\"Servlet \" + this.getServletName() + \" has started\");\n",
    "        try {\n",
    "             connnection = DriverManager.getConnection(connectionString);\n",
    "        } catch (SQLException e) {\n",
    "            // This print goes into catalina.out or standard output with Jetty\n",
    "            System.out.println(\"Error while connecting to database\");\n",
    "            System.out.println(\"SQLException: \" + e.getMessage());\n",
    "            System.out.println(\"SQLState: \" + e.getSQLState());\n",
    "            System.out.println(\"VendorError: \" + e.getErrorCode());\n",
    "            return;\n",
    "        }\n",
    "        System.out.println(\"Connection Successfull\");\n",
    "    }\n",
    "\n",
    "\n",
    "```"
   ]
  },
  {
   "cell_type": "markdown",
   "id": "ee2541cc",
   "metadata": {
    "editable": true,
    "slideshow": {
     "slide_type": "subslide"
    },
    "tags": []
   },
   "source": [
    "## Query the Database - 1. Statement\n",
    "<https://docs.oracle.com/en/java/javase/21/docs/api/java.sql/java/sql/Statement.html>\n",
    "\n",
    "> Stament is the object used for executing a static SQL statement and returning the results it produces.\n",
    "\n",
    "::::{.columns}\n",
    "\n",
    "::: {.fragment .column width=\"50%\"}\n",
    "* Statement are created using Connection\n",
    "* Executed using \n",
    "    - executeQuery() for SELECT instructions\n",
    "    - executeUpdate() for updating the data or the database structure\n",
    "    - execute() can be used for both cases above when the result is unknown\n",
    ":::\n",
    "\n",
    "::: {.fragment .column width=\"50%\"}\n",
    "- For DML queries: getUpdateCount() method returns the number of rows affected.\n",
    "- Select: getResultSet() returns a [Resultset](https://docs.oracle.com/en/java/javase/21/docs/api/java.sql/java/sql/ResultSet.html)\n",
    ":::\n",
    "\n",
    "::::\n"
   ]
  },
  {
   "cell_type": "markdown",
   "id": "152e6ea8",
   "metadata": {
    "editable": true,
    "slideshow": {
     "slide_type": "subslide"
    },
    "tags": []
   },
   "source": [
    "## Example: add in Hello World Servlet a query to select all students\n",
    "```java\n",
    "\n",
    "// To query the database\n",
    "import java.sql.Statement;\n",
    "import java.sql.ResultSet;\n",
    "\n",
    "try {\n",
    "            Statement stmt = connnection.createStatement();\n",
    "            ResultSet result = stmt.executeQuery(\"select * from student\");\n",
    "            while (result.next()) {\n",
    "                out.write(\"<p>\" + result.getString(\"name\") + \"</p>\");\n",
    "            }\n",
    "        } catch (SQLException e) {\n",
    "            System.out.println(\"Error while querying the database\");\n",
    "            System.out.println(\"SQLException: \" + e.getMessage());\n",
    "            System.out.println(\"SQLState: \" + e.getSQLState());\n",
    "            System.out.println(\"VendorError: \" + e.getErrorCode());\n",
    "        }\n",
    "```"
   ]
  },
  {
   "cell_type": "markdown",
   "id": "f22dbf3f",
   "metadata": {
    "editable": true,
    "slideshow": {
     "slide_type": "subslide"
    },
    "tags": []
   },
   "source": [
    "## Query the Database - 2. PreparedStatement\n",
    "https://docs.oracle.com/en/java/javase/21/docs/api/java.sql/java/sql/PreparedStatement.html\n",
    "\n",
    "> A SQL statement is precompiled and stored in a PreparedStatement object. This object can then be used to efficiently execute this statement multiple times.\n",
    "\n",
    "::::{.columns}\n",
    "\n",
    "::: {.fragment .column width=\"50%\"}\n",
    "* PreparedStatement are created using Connection\n",
    "* Parameters are marked using a ?\n",
    "* Setter methods allow to add parameters\n",
    "* Executed using same methods (without SQL)\n",
    "    - executeQuery() for SELECT instructions\n",
    "    - executeUpdate() for updating the data or the database structure\n",
    "    - execute() can be used for both cases above when the result is unknown\n",
    ":::\n",
    "\n",
    "::: {.fragment .column width=\"50%\"}\n",
    "- DML queries:executeUpdate() method returns the number of rows affected.\n",
    "- Select: getResultSet() returns a [Resulset](https://docs.oracle.com/en/java/javase/21/docs/api/java.sql/java/sql/ResultSet.html)\n",
    ":::\n",
    "\n",
    "::::\n"
   ]
  },
  {
   "cell_type": "markdown",
   "id": "c348d8d9",
   "metadata": {
    "editable": true,
    "slideshow": {
     "slide_type": "subslide"
    },
    "tags": []
   },
   "source": [
    "## Example: Query to insert a student\n",
    "\n",
    "```java\n",
    "\n",
    "public void doPost(HttpServletRequest request, HttpServletResponse response) throws IOException {\n",
    "        // Need to check parameters\n",
    "        String name=request.getParameter(\"name\");\n",
    "        Integer age=Integer.parseInt(request.getParameter(\"age\"));\n",
    "        String query=\"INSERT INTO student (name, age) VALUES (?, ?)\";\n",
    "        try {\n",
    "            java.sql.PreparedStatement stmt = connnection.prepareStatement(query);\n",
    "            stmt.setString(1, name);\n",
    "            stmt.setInt(2, age);\n",
    "            int rowsAffected =stmt.executeUpdate();\n",
    "            System.out.println(\"Rows affected: \" + rowsAffected);\n",
    "        } catch (SQLException e) {\n",
    "            System.out.println(\"Error while insert into the database\");\n",
    "            System.out.println(\"SQLException: \" + e.getMessage());\n",
    "            System.out.println(\"SQLState: \" + e.getSQLState());\n",
    "            System.out.println(\"VendorError: \" + e.getErrorCode()); \n",
    "        }\n",
    "    }\n",
    "```"
   ]
  },
  {
   "cell_type": "markdown",
   "id": "34a6372b",
   "metadata": {
    "editable": true,
    "slideshow": {
     "slide_type": "subslide"
    },
    "tags": []
   },
   "source": [
    "## Test "
   ]
  },
  {
   "cell_type": "markdown",
   "id": "f6174eb3",
   "metadata": {
    "cell_style": "split",
    "slideshow": {
     "slide_type": "subslide"
    }
   },
   "source": [
    "Visual Studio Extension\n",
    "https://marketplace.visualstudio.com/items?itemName=humao.rest-client"
   ]
  },
  {
   "cell_type": "markdown",
   "id": "17262ef4",
   "metadata": {
    "cell_style": "split",
    "slideshow": {
     "slide_type": "fragment"
    }
   },
   "source": [
    "```\n",
    "POST http://localhost:9999/hello HTTP/1.1\n",
    "content-type: application/x-www-form-urlencoded\n",
    "\n",
    "name=Nics&age=5\n",
    "```"
   ]
  },
  {
   "cell_type": "markdown",
   "id": "f0aa2d75",
   "metadata": {
    "slideshow": {
     "slide_type": "subslide"
    }
   },
   "source": [
    "## Getting Results - ResultSets\n",
    "https://docs.oracle.com/en/java/javase/21/docs/api/java.sql/java/sql/ResultSet.html"
   ]
  },
  {
   "cell_type": "markdown",
   "id": "e8952aa6",
   "metadata": {
    "slideshow": {
     "slide_type": "fragment"
    }
   },
   "source": [
    "> A table of data representing a database result set, which is usually generated by executing a statement that queries the database."
   ]
  },
  {
   "cell_type": "markdown",
   "id": "30913334",
   "metadata": {
    "slideshow": {
     "slide_type": "fragment"
    }
   },
   "source": [
    "> A ResultSet object maintains a cursor pointing to its current row of data. Initially the cursor is positioned before the first row. The next method moves the cursor to the next row, and because it returns false when there are no more rows in the ResultSet object, it can be used in a while loop to iterate through the result set."
   ]
  },
  {
   "cell_type": "markdown",
   "id": "53f2c1d5",
   "metadata": {
    "slideshow": {
     "slide_type": "fragment"
    }
   },
   "source": [
    "> A default ResultSet object is not updatable and has a cursor that moves forward only. Thus, you can iterate through it only once and only from the first row to the last row. It is possible to produce ResultSet objects that are scrollable and/or updatable. The following code fragment, in which con is a valid Connection object, illustrates how to make a result set that is scrollable and insensitive to updates by others, and that is updatable. See ResultSet fields for other options."
   ]
  },
  {
   "cell_type": "markdown",
   "id": "4f0dcf3c",
   "metadata": {
    "slideshow": {
     "slide_type": "subslide"
    }
   },
   "source": [
    "## Out of Scope\n",
    "- Updatable Result Sets\n",
    "- Parsing Meta Data\n",
    "- Result Set Meta Data\n",
    "- Transactions"
   ]
  },
  {
   "cell_type": "markdown",
   "id": "b813ef5f",
   "metadata": {
    "slideshow": {
     "slide_type": "subslide"
    }
   },
   "source": [
    "## Closing the Resources\n",
    "\n",
    "https://docs.oracle.com/en/java/javase/17/docs/api/java.base/java/lang/AutoCloseable.html\n",
    "\n",
    "When we’re no longer using it, we need to close the connection to release database resources.\n",
    "\n",
    "Same for Statement* and ResultSets.\n",
    "\n",
    "We can do this using the close() API:\n",
    "\n",
    "```java\n",
    "statement.close();\n",
    "rs.close();\n",
    "connection.close();\n",
    "```"
   ]
  },
  {
   "cell_type": "markdown",
   "id": "543e070b",
   "metadata": {
    "editable": true,
    "slideshow": {
     "slide_type": "slide"
    },
    "tags": []
   },
   "source": [
    "# Jakarta Persistence\n",
    "https://jakarta.ee/specifications/persistence/3.1/jakarta-persistence-spec-3.1.html\n"
   ]
  },
  {
   "cell_type": "markdown",
   "id": "1f0b12a4",
   "metadata": {
    "editable": true,
    "slideshow": {
     "slide_type": "subslide"
    },
    "tags": []
   },
   "source": [
    "# Scope\n",
    "Jakarta Persistence defines a standard for management of persistence and object/relational mapping in Java® environments."
   ]
  },
  {
   "cell_type": "markdown",
   "id": "3d642e08",
   "metadata": {
    "cell_style": "split",
    "slideshow": {
     "slide_type": "subslide"
    }
   },
   "source": [
    "A class\n",
    "```java\n",
    "@Entity\n",
    "public class Customer implements Serializable {\n",
    "    private Long id;\n",
    "    private String name;\n",
    "    private Address address;\n",
    "    private Collection<Order> orders = new HashSet();\n",
    "    private Set<PhoneNumber> phones = new HashSet();\n",
    "\n",
    "    // No-arg constructor\n",
    "    public Customer() {}\n",
    "\n",
    "    @Id // property access is used\n",
    "    public Long getId() {\n",
    "        return id;\n",
    "    }\n",
    "\n",
    "    public void setId(Long id) {\n",
    "        this.id = id;\n",
    "    }\n",
    "\n",
    "    public String getName() {\n",
    "        return name;\n",
    "    }\n",
    "\n",
    "    public void setName(String name) {\n",
    "        this.name = name;\n",
    "    }\n",
    "\n",
    "    public Address getAddress() {\n",
    "        return address;\n",
    "    }\n",
    "\n",
    "    public void setAddress(Address address) {\n",
    "        this.address = address;\n",
    "    }\n",
    "\n",
    "    @OneToMany\n",
    "    public Collection<Order> getOrders() {\n",
    "        return orders;\n",
    "    }\n",
    "\n",
    "    public void setOrders(Collection<Order> orders) {\n",
    "        this.orders = orders;\n",
    "    }\n",
    "\n",
    "    @ManyToMany\n",
    "    public Set<PhoneNumber> getPhones() {\n",
    "        return phones;\n",
    "    }\n",
    "\n",
    "    public void setPhones(Set<PhoneNumber> phones) {\n",
    "        this.phones = phones;\n",
    "    }\n",
    "\n",
    "    // Business method to add a phone number to the customer\n",
    "    public void addPhone(PhoneNumber phone) {\n",
    "        this.getPhones().add(phone);\n",
    "\n",
    "        // Update the phone entity instance to refer to this customer\n",
    "        phone.addCustomer(this);\n",
    "    }\n",
    "}\n",
    "```\n",
    "\n"
   ]
  },
  {
   "cell_type": "markdown",
   "id": "bb89aff4",
   "metadata": {
    "cell_style": "split",
    "slideshow": {
     "slide_type": "fragment"
    }
   },
   "source": [
    "![](images/JPA-DB.jpg)"
   ]
  },
  {
   "cell_type": "markdown",
   "id": "a6afbbbe",
   "metadata": {
    "slideshow": {
     "slide_type": "subslide"
    }
   },
   "source": [
    "# Creating a Servlet with JPA (the hard way)"
   ]
  },
  {
   "cell_type": "markdown",
   "id": "2bb388f5",
   "metadata": {
    "slideshow": {
     "slide_type": "subslide"
    }
   },
   "source": [
    "Create a Web App to manage students using a single servlet to get the list of student, using post create a new student. \n",
    "\n",
    "Use a JSP to send data using and old fashion HTML form"
   ]
  },
  {
   "cell_type": "markdown",
   "id": "2d13629a",
   "metadata": {
    "slideshow": {
     "slide_type": "subslide"
    }
   },
   "source": [
    "# Step 0\n",
    "Create a maven project as we did before adding Jetty, Servlet"
   ]
  },
  {
   "cell_type": "markdown",
   "id": "be5621bb",
   "metadata": {
    "slideshow": {
     "slide_type": "subslide"
    }
   },
   "source": [
    "# Step 1\n",
    "Add dependecies to pom.xml\n",
    "```xml\n",
    "<dependency>\n",
    "    <groupId>org.hibernate.orm</groupId>\n",
    "    <artifactId>hibernate-core</artifactId>\n",
    "    <version>6.4.0.Final</version>\n",
    "</dependency>\n",
    "<dependency>\n",
    "    <groupId>jakarta.persistence</groupId>\n",
    "    <artifactId>jakarta.persistence-api</artifactId>\n",
    "    <version>3.1.0</version>\n",
    "</dependency>\n",
    "<dependency>\n",
    "    <groupId>com.mysql</groupId>\n",
    "    <artifactId>mysql-connector-j</artifactId>\n",
    "    <version>8.2.0</version>\n",
    "</dependency>\n",
    "```\n",
    "\n"
   ]
  },
  {
   "cell_type": "markdown",
   "id": "8fd38ee4",
   "metadata": {
    "slideshow": {
     "slide_type": "subslide"
    }
   },
   "source": [
    "# Step 2\n",
    "create persistence.xml file under src/main/resources/META-INF\n",
    "\n",
    "Please note that class name can be different \n",
    "```xml\n",
    "<?xml version=\"1.0\" encoding=\"UTF-8\" standalone=\"yes\"?>\n",
    "<persistence version=\"3.0\" xmlns=\"https://jakarta.ee/xml/ns/persistence\"\n",
    "             xmlns:xsi=\"http://www.w3.org/2001/XMLSchema-instance\"\n",
    "             xsi:schemaLocation=\"https://jakarta.ee/xml/ns/persistence https://jakarta.ee/xml/ns/persistence/persistence_3_0.xsd\">\n",
    "    <persistence-unit name=\"default\">\n",
    "        <class>edu.unict.tsdw.lesson</class>\n",
    "        <properties>\n",
    "            <property name=\"jakarta.persistence.jdbc.driver\" value=\"com.mysql.cj.jdbc.Driver\"/>\n",
    "            <property name=\"jakarta.persistence.jdbc.url\" value=\"jdbc:mysql://localhost/students\"/>\n",
    "            <property name=\"jakarta.persistence.jdbc.user\" value=\"root\"/>\n",
    "            <property name=\"jakarta.persistence.jdbc.password\" value=\"ruttolibero\"/>\n",
    "           <!-- <property name=\"hibernate.hbm2ddl.auto\" value=\"update\"/> -->\n",
    "        </properties>\n",
    "    </persistence-unit>\n",
    "</persistence>\n",
    "```\n",
    "\n"
   ]
  },
  {
   "cell_type": "markdown",
   "id": "19b625eb",
   "metadata": {
    "slideshow": {
     "slide_type": "subslide"
    }
   },
   "source": [
    "# Step 3.1\n",
    "create Student class \n",
    "```java\n",
    "package edu.unict.tsdw.lesson;\n",
    "\n",
    "import jakarta.persistence.Entity;\n",
    "import jakarta.persistence.GeneratedValue;\n",
    "import jakarta.persistence.Id;\n",
    "\n",
    "@Entity\n",
    "public class Student {\n",
    "    @Id\n",
    "    @GeneratedValue\n",
    "    private Long id;\n",
    "    private String name;\n",
    "    private Integer age;\n",
    "\n",
    "    public void setId(Long id) {\n",
    "        this.id = id;\n",
    "    }\n",
    "\n",
    "    public Long getId() {\n",
    "        return id;\n",
    "    }\n",
    "\n",
    "    public String getName() {\n",
    "        return name;\n",
    "    }\n",
    "\n",
    "    public void setName(String name) {\n",
    "        this.name = name;\n",
    "    }\n",
    "\n",
    "    public Integer getAge() {\n",
    "        return age;\n",
    "    }\n",
    "\n",
    "    public void setAge(Integer age) {\n",
    "        this.age = age;\n",
    "    }\n",
    "\n",
    "    @Override\n",
    "    public String toString() {\n",
    "        return \"Student{\" +\n",
    "                \"name='\" + name + '\\'' +\n",
    "                \", id='\" + id + '\\'' + \n",
    "                \", age='\" + age + '\\'' +\n",
    "                '}';\n",
    "    }\n",
    "}\n",
    "```\n",
    "\n"
   ]
  },
  {
   "cell_type": "markdown",
   "id": "2bf16f19",
   "metadata": {
    "slideshow": {
     "slide_type": "subslide"
    }
   },
   "source": [
    "# Step 3.2\n",
    "create newstudent.jsp\n",
    "```jsp\n",
    "<%@ page contentType=\"text/html; charset=UTF-8\" pageEncoding=\"UTF-8\" %>\n",
    "<!DOCTYPE html>\n",
    "<html>\n",
    "<head>\n",
    "    <title>New student</title>\n",
    "</head>\n",
    "<body>\n",
    "<form method=\"post\" action=\"hello\" autocomplete=\"off\">\n",
    "    <label for=\"name\">What's your name?</label><br>\n",
    "    <input type=\"text\" id=\"name\" name=\"name\"><br>\n",
    "    <input type=\"submit\" value=\"Submit\">\n",
    "</form>\n",
    "</body>\n",
    "</html>\n",
    "```\n",
    "\n"
   ]
  },
  {
   "cell_type": "markdown",
   "id": "c1b0557f",
   "metadata": {
    "slideshow": {
     "slide_type": "subslide"
    }
   },
   "source": [
    "# Step 3.3\n",
    "Implement doPost with JPA\n",
    "```java\n",
    "    in HelloWorld.java (extension will add automatically)\n",
    "    import jakarta.persistence.EntityManager;\n",
    "    import jakarta.persistence.EntityManagerFactory;\n",
    "    import jakarta.persistence.EntityTransaction;\n",
    "    import jakarta.persistence.Persistence;\n",
    "    \n",
    "    in doPost..\n",
    "    // Add a class attribute\n",
    "    EntityManager em;\n",
    "    // in init\n",
    "    EntityManagerFactory emf = Persistence.createEntityManagerFactory(\"default\");\n",
    "    em = emf.createEntityManager();\n",
    "    \n",
    "    // in doPost\n",
    "    Student student=new Student();\n",
    "    student.setName(name);\n",
    "    student.setAge(age);\n",
    "    EntityTransaction transaction = em.getTransaction();\n",
    "    transaction.begin();\n",
    "    em.persist(student);\n",
    "    transaction.commit();\n",
    "    }\n",
    "```\n",
    "\n"
   ]
  },
  {
   "cell_type": "markdown",
   "id": "93f91657",
   "metadata": {
    "slideshow": {
     "slide_type": "subslide"
    }
   },
   "source": [
    "# Step 3.4\n",
    "Implement doGet with JPA\n",
    "```java\n",
    "  List<Student> Student = em\n",
    "        .createQuery(\"Select m from Student m \", Student.class)\n",
    "        .getResultList(); \n",
    "        for (Student s : Student) {\n",
    "            out.write(\"<p>Student \" + s.getName() + \" Age \"+s.getAge()+\"</p>\");\n",
    "        }\n",
    "    }\n",
    "```\n",
    "\n"
   ]
  },
  {
   "cell_type": "markdown",
   "id": "ac141b6a",
   "metadata": {
    "slideshow": {
     "slide_type": "subslide"
    }
   },
   "source": [
    "# A bit of theory\n",
    "\n",
    "https://jakarta.ee/specifications/persistence/3.1/apidocs/jakarta.persistence/module-summary.html\n",
    "https://docs.jboss.org/hibernate/orm/6.1/userguide/html_single/Hibernate_User_Guide.html\n"
   ]
  },
  {
   "cell_type": "markdown",
   "id": "44175a44",
   "metadata": {
    "cell_style": "center",
    "slideshow": {
     "slide_type": "subslide"
    }
   },
   "source": [
    "## Entity \n",
    "https://medium.com/@saeiddrv/jpa-hibernate-mapping-types-891686bc6cfd"
   ]
  },
  {
   "cell_type": "markdown",
   "id": "173d63d0",
   "metadata": {
    "cell_style": "split",
    "slideshow": {
     "slide_type": "subslide"
    }
   },
   "source": [
    "An entity is a domain model class that we want to map as a table in a relational database. Thus, each instance of the entity class corresponds to a specific row in the mapped table."
   ]
  },
  {
   "cell_type": "markdown",
   "id": "bb2cc6f4",
   "metadata": {
    "cell_style": "split",
    "slideshow": {
     "slide_type": "fragment"
    }
   },
   "source": [
    "![](https://miro.medium.com/v2/resize:fit:460/format:webp/1*R3oYMoR_UZrzLJg-blLbbg.png)"
   ]
  },
  {
   "cell_type": "markdown",
   "id": "a4446197",
   "metadata": {
    "slideshow": {
     "slide_type": "subslide"
    }
   },
   "source": [
    "## Entity Annotation \n",
    "\n",
    "Defined in https://jakarta.ee/specifications/persistence/3.1/apidocs/jakarta.persistence/jakarta/persistence/package-summary\n",
    "\n",
    "Most popular:\n",
    "\n",
    "| Annotation | Description |\n",
    "| -----------|------------|\n",
    "| Entity     | Specifies that the class is an entity. |\n",
    "| Id         | Specifies the primary key of an entity.|\n",
    "| Column     | Specifies the mapped column for a persistent property or field. |\n",
    "| OneToMany  | Specifies a many-valued association with one-to-many multiplicity. (same for other relations)|"
   ]
  },
  {
   "cell_type": "markdown",
   "id": "fd934323",
   "metadata": {
    "slideshow": {
     "slide_type": "slide"
    }
   },
   "source": [
    "## Queries\n",
    "https://www.baeldung.com/jpa-queries"
   ]
  },
  {
   "cell_type": "markdown",
   "id": "213607cc",
   "metadata": {
    "slideshow": {
     "slide_type": "subslide"
    }
   },
   "source": [
    "## Query\n",
    "\n",
    "Java Persistence Query Language (JPQL) syntax is similar to SQL\n",
    "\n",
    "```sql\n",
    "SELECT ... FROM ...\n",
    "[WHERE ...]\n",
    "[GROUP BY ... [HAVING ...]]\n",
    "[ORDER BY ...]\n",
    "```\n",
    "\n",
    "They generally used to perform CRUD operations.\n",
    "\n",
    "Named parameters are managed using :params\n",
    "\n"
   ]
  },
  {
   "cell_type": "markdown",
   "id": "789f5ba2",
   "metadata": {
    "slideshow": {
     "slide_type": "subslide"
    }
   },
   "source": [
    "### TypedQuery\n",
    "\n",
    "Like Query but specyfing the return class of the query to achieve **stronged types** without cast"
   ]
  },
  {
   "cell_type": "markdown",
   "id": "56df4e9f",
   "metadata": {
    "slideshow": {
     "slide_type": "subslide"
    }
   },
   "source": [
    "### Example\n",
    "```java\n",
    "\n",
    "import javax.persistence.EntityManager;\n",
    "import javax.persistence.TypedQuery;\n",
    "\n",
    "public List<Author> getAuthorsByLastName(String lastName) {\n",
    "    String queryString = \"SELECT a FROM Author a \" +\n",
    "                         \"WHERE a.lastName IS NULL OR LOWER(a.lastName) = LOWER(:lastName)\";\n",
    "\n",
    "    TypedQuery<Author> query = getEntityManager().createQuery(queryString, Author.class);\n",
    "    query.setParameter(\"lastName\", lastName);\n",
    "    return query.getResultList();\n",
    "}\n",
    "```"
   ]
  },
  {
   "cell_type": "markdown",
   "id": "a67fa951",
   "metadata": {
    "slideshow": {
     "slide_type": "subslide"
    }
   },
   "source": [
    "## NativeQuery\n",
    "\n",
    "A NativeQuery is simply an SQL query. These allow us to unleash the full power of our database, as we can use proprietary features not available in JPQL-restricted syntax."
   ]
  },
  {
   "cell_type": "markdown",
   "id": "0f51aa59",
   "metadata": {
    "slideshow": {
     "slide_type": "subslide"
    }
   },
   "source": [
    "### Example\n",
    "```java\n",
    "public UserEntity getUserByIdWithNativeQuery(Long id) {\n",
    "    Query nativeQuery\n",
    "      = getEntityManager().createNativeQuery(\"SELECT * FROM users WHERE id=:userId\", UserEntity.class);\n",
    "    nativeQuery.setParameter(\"userId\", id);\n",
    "    return (UserEntity) nativeQuery.getSingleResult();\n",
    "}\n",
    "```"
   ]
  },
  {
   "cell_type": "markdown",
   "id": "c94b503d",
   "metadata": {
    "slideshow": {
     "slide_type": "slide"
    }
   },
   "source": [
    "# An example with Docker\n",
    "https://github.com/unict-dmi-tswd-lab/myWebApp-servletdemo"
   ]
  },
  {
   "cell_type": "markdown",
   "id": "75766ddf",
   "metadata": {
    "slideshow": {
     "slide_type": "subslide"
    }
   },
   "source": [
    "## References\n",
    "- https://maven.apache.org/archetypes/maven-archetype-webapp/\n",
    "- https://dev.to/hantsy_26/building-your-own-maven-archetype-gm8\n",
    "- https://itnext.io/building-jakarta-ee-9-web-application-with-servlet-containers-b3acc50c8464\n",
    "- https://start.jakarta.ee/\n",
    "- https://www.javatpoint.com/steps-to-create-a-servlet-using-tomcat-server\n",
    "- https://www.jetbrains.com/help/idea/creating-and-running-your-first-java-ee-application.html#new_project\n",
    "- https://www.baeldung.com/tomcat-deploy-war\n",
    "- https://www.eclipse.org/jetty/documentation/jetty-11/programming-guide/index.html#jetty-maven-plugin\n",
    "- https://itnext.io/building-jakarta-ee-9-web-application-with-servlet-containers-b3acc50c8464\n",
    "- https://github.com/Azure-Samples/tomcat10-jakartaee9\n",
    "- https://blog.payara.fish/getting-started-with-jakarta-ee-9-jakarta-persistence-api-jpa\n",
    "- https://itnext.io/whats-new-in-jakarta-persistence-3-1-by-examples-81b292e8b3a4\n",
    "- https://maven.apache.org/archetypes/maven-archetype-webapp/\n",
    "- https://itnext.io/generate-a-jakarta-ee-9-project-skeleton-from-maven-archetype-2b9fc9ce9bb8 https://github.com/hantsy/maven-archetype-jakartaee9\n",
    "- https://start.jakarta.ee/\n",
    "- https://blog.payara.fish/getting-started-with-jakarta-ee-9-hello-world"
   ]
  }
 ],
 "metadata": {
  "celltoolbar": "Slideshow",
  "kernelspec": {
   "display_name": "Python 3 (ipykernel)",
   "language": "python",
   "name": "python3"
  },
  "language_info": {
   "codemirror_mode": {
    "name": "ipython",
    "version": 3
   },
   "file_extension": ".py",
   "mimetype": "text/x-python",
   "name": "python",
   "nbconvert_exporter": "python",
   "pygments_lexer": "ipython3",
   "version": "3.10.12"
  },
  "rise": {
   "autolaunch": true,
   "enable_chalkboard": "true",
   "footer": "<div class=\"tswd-footer\"> *** TSWD - 2023 ***</div>",
   "header": "<div class=\"tswd-header\"></div>",
   "scroll": true,
   "theme": "white"
  }
 },
 "nbformat": 4,
 "nbformat_minor": 5
}
