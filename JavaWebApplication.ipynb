{
 "cells": [
  {
   "cell_type": "raw",
   "id": "ceec793d-f5eb-4989-ac39-a6268a372686",
   "metadata": {
    "editable": true,
    "raw_mimetype": "",
    "slideshow": {
     "slide_type": ""
    },
    "tags": []
   },
   "source": [
    "---\n",
    "title: \"Java Web Application\"\n",
    "author: \"Salvo Nicotra\"\n",
    "format: revealjs\n",
    "incremental: true  \n",
    "theme: white\n",
    "chalkboard: true\n",
    "css: style.css\n",
    "smaller: true\n",
    "# scrollable: true\n",
    "include-before: |\n",
    "    <img src=\"images/unict-logo.png\" class=\"custom-logo\" alt=\"Logo\">\n",
    "include-after: |\n",
    "      <div class=\"custom-footer\">\n",
    "        *** Web and Service Oriented Systems and Laboratory (WSOS) - 2024/2025 ***\n",
    "      </div>\n",
    "---"
   ]
  },
  {
   "cell_type": "markdown",
   "id": "c2be5e56",
   "metadata": {
    "editable": true,
    "slideshow": {
     "slide_type": "slide"
    },
    "tags": []
   },
   "source": [
    "# Elements of a Web Application\n",
    "<https://jakarta.ee/specifications/servlet/6.0/jakarta-servlet-spec-6.0.html#elements-of-a-web-application>\n",
    "\n",
    "A web application may consist of the following items:\n",
    "\n",
    "- Servlets\n",
    "- JSP Pages\n",
    "- Utility Classes\n",
    "- Static documents (HTML, images, sounds, etc.)\n",
    "- Client side Java applets, beans, and classes\n",
    "- Descriptive meta information that ties all of the above elements together"
   ]
  },
  {
   "cell_type": "markdown",
   "id": "8e1e99bc",
   "metadata": {
    "editable": true,
    "slideshow": {
     "slide_type": "slide"
    },
    "tags": []
   },
   "source": [
    "## Servlet \n",
    "<https://jakarta.ee/specifications/servlet/6.0/jakarta-servlet-spec-6.0.html#what-is-a-servlet>\n",
    "\n",
    "> A servlet is a Jakarta technology-based web component, managed by a container, that generates dynamic content. Like other Jakarta technology-based components, servlets are platform-independent Java classes that are compiled to platform-neutral byte code that can be loaded dynamically into and run by a Jakarta technology-enabled web server. Containers, sometimes called servlet engines, are web server extensions that provide servlet functionality. Servlets interact with web clients via a request/response paradigm implemented by the servlet container.\n",
    "\n"
   ]
  },
  {
   "cell_type": "markdown",
   "id": "713920c4",
   "metadata": {
    "editable": true,
    "slideshow": {
     "slide_type": "subslide"
    },
    "tags": []
   },
   "source": [
    "## The Servlet Interface\n",
    "<https://jakarta.ee/specifications/servlet/6.0/apidocs/jakarta.servlet/jakarta/servlet/servlet>\n",
    "\n",
    "**Package**\n",
    "jakarta.servlet\n",
    "\n",
    "**Interface Servlet**\n",
    "\n",
    "All Known Implementing Classes:\n",
    "\n",
    "[GenericServlet](https://jakarta.ee/specifications/servlet/6.0/apidocs/jakarta.servlet/jakarta/servlet/genericservlet)\n",
    "\n",
    "[HttpServlet](https://jakarta.ee/specifications/servlet/6.0/apidocs/jakarta.servlet/jakarta/servlet/http/httpservlet)\n",
    "\n"
   ]
  },
  {
   "cell_type": "markdown",
   "id": "2cf9d5ca",
   "metadata": {
    "editable": true,
    "slideshow": {
     "slide_type": "subslide"
    },
    "tags": []
   },
   "source": [
    "### The interface\n",
    "public interface **Servlet**\n",
    "\n",
    "Defines methods that all servlets must implement.\n",
    "\n",
    "A servlet is a small Java program that runs within a Web server. Servlets receive and respond to requests from Web clients, usually across HTTP, the HyperText Transfer Protocol.\n",
    "\n",
    "To implement this interface, you can write a generic servlet that extends `jakarta.servlet.GenericServlet` or an HTTP servlet that extends `jakarta.servlet.http.HttpServlet`."
   ]
  },
  {
   "cell_type": "markdown",
   "id": "07d469c8",
   "metadata": {
    "editable": true,
    "slideshow": {
     "slide_type": "subslide"
    },
    "tags": []
   },
   "source": [
    "This interface defines methods to initialize a servlet, to service requests, and to remove a servlet from the server. These are known as life-cycle methods and are called in the following sequence:\n",
    "\n",
    "1.  The servlet is constructed, then initialized with the `init` method.\n",
    "2.  Any calls from clients to the `service` method are handled.\n",
    "3.  The servlet is taken out of service, then destroyed with the `destroy` method, then garbage collected and finalized.\n",
    "\n",
    ":::{.fragment}\n",
    "In addition to the life-cycle methods, this interface provides the `getServletConfig` method, which the servlet can use to get any startup information, and the `getServletInfo` method, which allows the servlet to return basic information about itself, such as author, version, and copyright.\n",
    ":::"
   ]
  },
  {
   "cell_type": "markdown",
   "id": "82abe3f9",
   "metadata": {
    "editable": true,
    "slideshow": {
     "slide_type": "subslide"
    },
    "tags": []
   },
   "source": [
    "## LifeCycle of a servlet \n",
    "https://www.geeksforgeeks.org/life-cycle-of-a-servlet/\n",
    "\n",
    "![](https://media.geeksforgeeks.org/wp-content/uploads/Life-Cycle-Of-Servlet.jpg){.fragment .r-scratch}"
   ]
  },
  {
   "cell_type": "markdown",
   "id": "88f2ce59",
   "metadata": {
    "editable": true,
    "slideshow": {
     "slide_type": "subslide"
    },
    "tags": []
   },
   "source": [
    "## Methods to create servlet\n",
    "\n",
    ":::: {.columns}\n",
    "\n",
    "::: {.fragment .column width=\"50%\"}\n",
    "- Implement Servlet (see [Repo](https://github.com/unict-dmi-tswd-lab/simple-servlet))\n",
    "- Extend GenericServlet (see [JavaTutorial](https://static.javatpoint.com/src/servlet/genericexample.zip))\n",
    "- Extend HttpServlet\n",
    "::: \n",
    "\n",
    "::: {.fragment .column width=\"50%\"}\n",
    "![](https://i.imgflip.com/72a4lw.jpg)\n",
    "[NicsMeme](https://imgflip.com/i/72a4lw)\n",
    ":::\n",
    "::::\n",
    "\n",
    " "
   ]
  },
  {
   "cell_type": "markdown",
   "id": "6cd8e852",
   "metadata": {
    "editable": true,
    "slideshow": {
     "slide_type": "slide"
    },
    "tags": []
   },
   "source": [
    "# Building a Java Web Application"
   ]
  },
  {
   "attachments": {},
   "cell_type": "markdown",
   "id": "b30a5956",
   "metadata": {
    "editable": true,
    "slideshow": {
     "slide_type": "slide"
    },
    "tags": []
   },
   "source": [
    "## Maven \n",
    "<https://maven.apache.org/>\n",
    "\n",
    ":::: {.columns}\n",
    "\n",
    "::: {.fragment .column width=\"50%\"}\n",
    "\n",
    "- Apache Maven is a software project management and comprehension tool.\n",
    "- Based on the concept of a project object model (POM), Maven can manage\n",
    "  1. a project's build\n",
    "  2. reporting\n",
    "  3. documentation\n",
    "::: \n",
    "\n",
    "::: {.fragment .column width=\"50%\"}\n",
    "![](https://maven.apache.org/images/maven-logo-black-on-white.png)\n",
    ":::\n",
    "::::\n",
    "\n",
    "\n",
    "\n"
   ]
  },
  {
   "cell_type": "markdown",
   "id": "8a946396",
   "metadata": {
    "editable": true,
    "slideshow": {
     "slide_type": "slide"
    },
    "tags": []
   },
   "source": [
    "### maven-archetype-webapp\n",
    "\n",
    ":::: {.columns}\n",
    "<https://maven.apache.org/guides/introduction/introduction-to-archetypes.html>\n",
    "\n",
    "In short, Archetype is a Maven project templating toolkit. An archetype is defined as an original pattern or model from which all other things of the same kind are made. The name fits as we are trying to provide a system that provides a consistent means of generating Maven projects. Archetype will help authors create Maven project templates for users, and provides users with the means to generate parameterized versions of those project templates.\n",
    "\n",
    "::: {.fragment .column width=\"50%\"}\n",
    "::: \n",
    "\n",
    "::: {.fragment .column width=\"50%\"}\n",
    "<https://maven.apache.org/archetypes/maven-archetype-webapp/>\n",
    "\n",
    "maven-archetype-webapp is an archetype which generates a sample Maven webapp project:\n",
    "```\n",
    "project\n",
    "|-- .mvn\n",
    "|   |-- jvm.config\n",
    "|   `-- maven.config\n",
    "|-- pom.xml\n",
    "`-- src\n",
    "    `-- main\n",
    "        `-- webapp\n",
    "            |-- WEB-INF\n",
    "            |   `-- web.xml\n",
    "            `-- index.jsp\n",
    "```            \n",
    ":::\n",
    "::::\n",
    "\n",
    "\n",
    "\n"
   ]
  },
  {
   "cell_type": "markdown",
   "id": "6e88143d",
   "metadata": {
    "editable": true,
    "slideshow": {
     "slide_type": "subslide"
    },
    "tags": []
   },
   "source": [
    "#### Create a web app using maven webapp archetype \n",
    "\n",
    ":::: {.columns}\n",
    "\n",
    "::: {.fragment .column width=\"50%\"}\n",
    "```bash\n",
    "mvn archetype:generate -DarchetypeGroupId=org.apache.maven.archetypes -DarchetypeArtifactId=maven-archetype-webapp -DarchetypeVersion=1.5\n",
    "```\n",
    "::: \n",
    "\n",
    "::: {.fragment .column width=\"50%\"}\n",
    "```\n",
    "[INFO] ----------------------------------------------------------------------------\n",
    "[INFO] Using following parameters for creating project from Archetype: maven-archetype-webapp:1.5\n",
    "[INFO] ----------------------------------------------------------------------------\n",
    "[INFO] Parameter: groupId, Value: edu.unict.wsos.webapp.scratch\n",
    "[INFO] Parameter: artifactId, Value: scratch\n",
    "[INFO] Parameter: version, Value: 1.0-SNAPSHOT\n",
    "[INFO] Parameter: package, Value: war\n",
    "[INFO] Parameter: packageInPathFormat, Value: war\n",
    "[INFO] Parameter: package, Value: war\n",
    "[INFO] Parameter: version, Value: 1.0-SNAPSHOT\n",
    "[INFO] Parameter: groupId, Value: edu.unict.tswd.webapp.scratch\n",
    "[INFO] Parameter: artifactId, Value: scratch\n",
    "```\n",
    ":::\n",
    "::::\n",
    "\n",
    "\n"
   ]
  },
  {
   "cell_type": "markdown",
   "id": "16699576",
   "metadata": {
    "editable": true,
    "slideshow": {
     "slide_type": "subslide"
    },
    "tags": []
   },
   "source": [
    "#### Build a web app using maven webapp archetype \n",
    "\n",
    "Build using\n",
    "```bash\n",
    "mvn install\n",
    "```\n",
    "produces a WAR that can be deployed in tomcat as we know"
   ]
  },
  {
   "attachments": {},
   "cell_type": "markdown",
   "id": "412e69ad",
   "metadata": {
    "editable": true,
    "slideshow": {
     "slide_type": "subslide"
    },
    "tags": []
   },
   "source": [
    "## Jetty\n",
    "<https://www.eclipse.org/jetty/documentation/jetty-11/programming-guide/index.html#jetty-run-goal>\n",
    "\n",
    "::::{.columns}\n",
    "- Eclipse Jetty provides a highly scalable and memory-efficient web server and servlet container, supporting many protocols such as HTTP/3,2,1 and WebSocket.\n",
    "- The project offers integrations with many other technologies, such as OSGi, JMX, JNDI, JAAS, etc. \n",
    "- These components are open source and are freely available for commercial use and distribution under both the EPL2 and Apache2 licenses.\n",
    "::: {.fragment .column width=\"50%\"}\n",
    "\n",
    ":::\n",
    "\n",
    "::: {.fragment .column width=\"50%\"}\n",
    "![](https://jetty.org/_images/jetty-logo.svg)\n",
    ":::\n",
    "\n",
    "::::\n"
   ]
  },
  {
   "cell_type": "markdown",
   "id": "a3ae2fca",
   "metadata": {
    "editable": true,
    "jp-MarkdownHeadingCollapsed": true,
    "slideshow": {
     "slide_type": "subslide"
    },
    "tags": []
   },
   "source": [
    "### Add Jetty as Maven Plugin\n",
    "<https://www.eclipse.org/jetty/documentation/jetty-11/programming-guide/index.html#jetty-run-goal>\n",
    "\n",
    "::::{.columns}\n",
    "\n",
    "::: {.fragment .column width=\"50%\"}\n",
    "**Add in pom.xml**\n",
    "\n",
    "```xml\n",
    "<plugin>\n",
    "    <groupId>org.eclipse.jetty</groupId>\n",
    "    <artifactId>jetty-maven-plugin</artifactId>\n",
    "    <configuration>\n",
    "    <scan>10</scan>\n",
    "    </configuration>\n",
    "</plugin>\n",
    "```\n",
    ":::\n",
    "\n",
    "::: {.fragment .column width=\"50%\"}\n",
    "**Run a web application with \"integrated\" application server**\n",
    "\n",
    "```bash\n",
    "mvn jetty:run\n",
    "```\n",
    ":::\n",
    "\n",
    "::::\n",
    "\n",
    "\n"
   ]
  },
  {
   "cell_type": "markdown",
   "id": "06ec03cf",
   "metadata": {
    "editable": true,
    "slideshow": {
     "slide_type": "slide"
    },
    "tags": []
   },
   "source": [
    "# Create a servlet from scratch"
   ]
  },
  {
   "cell_type": "markdown",
   "id": "058c7f00",
   "metadata": {
    "editable": true,
    "slideshow": {
     "slide_type": "subslide"
    },
    "tags": []
   },
   "source": [
    "## Step 1. Add dependency in pom.xml\n",
    "\n",
    "```xml\n",
    "<dependency>\n",
    "            <groupId>jakarta.servlet</groupId>\n",
    "            <artifactId>jakarta.servlet-api</artifactId>\n",
    "            <version>6.0.0</version>\n",
    "            <scope>provided</scope>\n",
    "</dependency>\n",
    "```\n",
    "\n",
    "::: {.callout-note}\n",
    "Maven will automatically download all the dependencies and put in a local repository .m2 directory\n",
    ":::"
   ]
  },
  {
   "cell_type": "markdown",
   "id": "e9c60a06",
   "metadata": {
    "editable": true,
    "slideshow": {
     "slide_type": "subslide"
    },
    "tags": []
   },
   "source": [
    "## Step 2. Create a servlet class\n",
    "\n",
    "::::{.columns}\n",
    "\n",
    "::: {.fragment .column width=\"40%\"}\n",
    "```bash\n",
    "\n",
    "- cd src/main\n",
    "- mkdir -p java/edu/unict/wsos/webapp\n",
    "- touch HelloWorld.java\n",
    "```\n",
    ":::\n",
    "\n",
    "::: {.fragment .column width=\"60%\"}\n",
    "```java\n",
    "package edu.unict.wsos.webapp;\n",
    "\n",
    "import jakarta.servlet.http.HttpServlet;\n",
    "import jakarta.servlet.http.HttpServletRequest;\n",
    "import jakarta.servlet.http.HttpServletResponse;\n",
    "\n",
    "import java.io.IOException;\n",
    "import java.io.PrintWriter;\n",
    "\n",
    "public class HelloWorld extends HttpServlet {\n",
    "    public void doGet(HttpServletRequest request, \n",
    "                      HttpServletResponse response) \n",
    "    throws IOException {\n",
    "        response.setContentType(\"text/html\");\n",
    "        PrintWriter out = null;\n",
    "        try {\n",
    "            out = response.getWriter();\n",
    "        } catch (IOException e) {\n",
    "            e.printStackTrace();\n",
    "        }\n",
    "        out.write(\"<html>\");\n",
    "        out.write(\"<head><title></title></head>\");\n",
    "        out.write(\"<body>\");\n",
    "        out.write(\"<h1>Hello Servlet World</h1>\");\n",
    "        out.write(\"</body></html>\");\n",
    "    }\n",
    "}\n",
    "```\n",
    ":::\n",
    "\n",
    "::::\n",
    "\n"
   ]
  },
  {
   "cell_type": "markdown",
   "id": "69b9dadc",
   "metadata": {
    "editable": true,
    "slideshow": {
     "slide_type": "subslide"
    },
    "tags": []
   },
   "source": [
    "## Step 3. Map servlet \n",
    "\n",
    "::::{.columns}\n",
    "\n",
    "::: {.fragment .column width=\"50%\"}\n",
    "```xml\n",
    "<!DOCTYPE web-app PUBLIC\n",
    " \"-//Sun Microsystems, Inc.//DTD Web Application 2.3//EN\"\n",
    " \"http://java.sun.com/dtd/web-app_2_3.dtd\" >\n",
    "\n",
    "<web-app>\n",
    "  <display-name>Archetype Created Web Application</display-name>\n",
    "  <servlet>\n",
    "    <servlet-name>HelloWorld</servlet-name>\n",
    "    <servlet-class>edu.unict.wsos.webapp.HelloWorld</servlet-class>\n",
    "  </servlet>\n",
    "\n",
    "  <servlet-mapping>\n",
    "    <servlet-name>HelloWorld</servlet-name>\n",
    "    <url-pattern>/hello</url-pattern>\n",
    "  </servlet-mapping>\n",
    "</web-app>\n",
    "\n",
    "```\n",
    "\n",
    ":::\n",
    "\n",
    "::: {.fragment .column width=\"50%\"}\n",
    "Using [annotation](https://jakarta.ee/specifications/servlet/6.0/apidocs/jakarta.servlet/jakarta/servlet/annotation/webservlet)\n",
    "\n",
    "```java\n",
    "import javax.servlet.annotation.WebServlet;\n",
    " \n",
    "@WebServlet(\"/hello\")\n",
    "public class HelloWorld extends HttpServlet {\n",
    "\n",
    "```\n",
    "\n",
    "::: {.callout-warning}\n",
    "If web.xml is present has priority on annotation\n",
    ":::\n",
    "\n",
    ":::\n",
    "\n",
    "::::\n"
   ]
  },
  {
   "cell_type": "markdown",
   "id": "86f53ca9",
   "metadata": {
    "editable": true,
    "slideshow": {
     "slide_type": "slide"
    },
    "tags": []
   },
   "source": [
    "# Examples: Other application servers"
   ]
  },
  {
   "cell_type": "markdown",
   "id": "f3f5f7ea-c6e7-47b7-8801-626346abdc77",
   "metadata": {
    "editable": true,
    "slideshow": {
     "slide_type": ""
    },
    "tags": []
   },
   "source": [
    "## Jakarta\n",
    "\n",
    "Go to <https://start.jakarta.ee/>"
   ]
  },
  {
   "cell_type": "markdown",
   "id": "7e6c89e7",
   "metadata": {
    "editable": true,
    "slideshow": {
     "slide_type": "slide"
    },
    "tags": []
   },
   "source": [
    "## Payara\n",
    "Go to <https://start.payara.fish/>"
   ]
  }
 ],
 "metadata": {
  "celltoolbar": "Slideshow",
  "kernelspec": {
   "display_name": "Python 3 (ipykernel)",
   "language": "python",
   "name": "python3"
  },
  "language_info": {
   "codemirror_mode": {
    "name": "ipython",
    "version": 3
   },
   "file_extension": ".py",
   "mimetype": "text/x-python",
   "name": "python",
   "nbconvert_exporter": "python",
   "pygments_lexer": "ipython3",
   "version": "3.10.12"
  },
  "rise": {
   "autolaunch": true,
   "enable_chalkboard": "true",
   "footer": "<div class=\"tswd-footer\"> *** TSWD - 2023 ***</div>",
   "header": "<div class=\"tswd-header\"></div>",
   "scroll": true,
   "theme": "white"
  }
 },
 "nbformat": 4,
 "nbformat_minor": 5
}
