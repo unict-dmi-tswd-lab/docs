{
 "cells": [
  {
   "cell_type": "markdown",
   "id": "a05c9530",
   "metadata": {
    "editable": true,
    "slideshow": {
     "slide_type": "slide"
    },
    "tags": []
   },
   "source": [
    "# Java Web Application"
   ]
  },
  {
   "cell_type": "markdown",
   "id": "6f3df771",
   "metadata": {
    "slideshow": {
     "slide_type": "subslide"
    }
   },
   "source": [
    "# The big picture\n",
    "\n",
    "[Doc](./doc/TomcatandJavaApps.pdf)\n",
    "\n",
    "[Board](https://miro.com/welcomeonboard/MnhNR2Mxc3ZhWnh5elIxQWsyaFhieUdiRXVaaThLeUxRWGR5VHpEOG5uWGxtTGx6U1lPNjQwTUtiTnVwOEFrU3wzNDU4NzY0NTM3NDQ5NTEwNDY2fDI=?share_link_id=262831013753)"
   ]
  },
  {
   "cell_type": "markdown",
   "id": "c2be5e56",
   "metadata": {
    "slideshow": {
     "slide_type": "slide"
    }
   },
   "source": [
    "# Elements of a Web Application\n",
    "https://jakarta.ee/specifications/servlet/5.0/jakarta-servlet-spec-5.0.html#elements-of-a-web-application"
   ]
  },
  {
   "cell_type": "markdown",
   "id": "c6db1b75",
   "metadata": {
    "slideshow": {
     "slide_type": "subslide"
    }
   },
   "source": [
    "A web application may consist of the following items:\n",
    "\n",
    "- Servlets\n",
    "- JSP Pages\n",
    "- Utility Classes\n",
    "- Static documents (HTML, images, sounds, etc.)\n",
    "- Client side Java applets, beans, and classes\n",
    "- Descriptive meta information that ties all of the above elements together"
   ]
  },
  {
   "cell_type": "markdown",
   "id": "8e1e99bc",
   "metadata": {
    "slideshow": {
     "slide_type": "slide"
    }
   },
   "source": [
    "# Servlet "
   ]
  },
  {
   "cell_type": "markdown",
   "id": "480c0ea0",
   "metadata": {
    "slideshow": {
     "slide_type": "fragment"
    }
   },
   "source": [
    "> A servlet is a Jakarta technology-based web component, managed by a container, that generates dynamic content. Like other Jakarta technology-based components, servlets are platform-independent Java classes that are compiled to platform-neutral byte code that can be loaded dynamically into and run by a Jakarta technology-enabled web server. Containers, sometimes called servlet engines, are web server extensions that provide servlet functionality. Servlets interact with web clients via a request/response paradigm implemented by the servlet container.\n",
    "\n",
    "https://jakarta.ee/specifications/servlet/5.0/jakarta-servlet-spec-5.0.html#what-is-a-servlet"
   ]
  },
  {
   "cell_type": "markdown",
   "id": "713920c4",
   "metadata": {
    "slideshow": {
     "slide_type": "subslide"
    }
   },
   "source": [
    "## The Servlet Interface\n",
    "https://jakarta.ee/specifications/servlet/5.0/apidocs/jakarta/servlet/servlet"
   ]
  },
  {
   "cell_type": "markdown",
   "id": "ca963063",
   "metadata": {
    "slideshow": {
     "slide_type": "subslide"
    }
   },
   "source": [
    "### Package \n",
    "jakarta.servlet\n",
    "\n",
    "## Interface Servlet\n",
    "\n",
    "All Known Implementing Classes:\n",
    "\n",
    "[GenericServlet](https://jakarta.ee/specifications/servlet/5.0/apidocs/jakarta/servlet/genericservlet)\n",
    "[HttpServlet](https://jakarta.ee/specifications/servlet/5.0/apidocs/jakarta/servlet/http/HttpServlet.html)\n",
    "\n",
    "* * *"
   ]
  },
  {
   "cell_type": "markdown",
   "id": "2cf9d5ca",
   "metadata": {
    "slideshow": {
     "slide_type": "subslide"
    }
   },
   "source": [
    "public interface Servlet\n",
    "\n",
    "Defines methods that all servlets must implement.\n",
    "\n",
    "A servlet is a small Java program that runs within a Web server. Servlets receive and respond to requests from Web clients, usually across HTTP, the HyperText Transfer Protocol.\n",
    "\n",
    "To implement this interface, you can write a generic servlet that extends `jakarta.servlet.GenericServlet` or an HTTP servlet that extends `jakarta.servlet.http.HttpServlet`."
   ]
  },
  {
   "cell_type": "markdown",
   "id": "07d469c8",
   "metadata": {
    "slideshow": {
     "slide_type": "subslide"
    }
   },
   "source": [
    "This interface defines methods to initialize a servlet, to service requests, and to remove a servlet from the server. These are known as life-cycle methods and are called in the following sequence:\n",
    "\n",
    "1.  The servlet is constructed, then initialized with the `init` method.\n",
    "2.  Any calls from clients to the `service` method are handled.\n",
    "3.  The servlet is taken out of service, then destroyed with the `destroy` method, then garbage collected and finalized.\n",
    "\n",
    "In addition to the life-cycle methods, this interface provides the `getServletConfig` method, which the servlet can use to get any startup information, and the `getServletInfo` method, which allows the servlet to return basic information about itself, such as author, version, and copyright."
   ]
  },
  {
   "cell_type": "markdown",
   "id": "82abe3f9",
   "metadata": {
    "slideshow": {
     "slide_type": "subslide"
    }
   },
   "source": [
    "# LifeCycle of a servlet \n",
    "https://www.geeksforgeeks.org/life-cycle-of-a-servlet/"
   ]
  },
  {
   "cell_type": "markdown",
   "id": "122ca1c8",
   "metadata": {
    "slideshow": {
     "slide_type": "subslide"
    }
   },
   "source": [
    "![](https://media.geeksforgeeks.org/wp-content/uploads/Life-Cycle-Of-Servlet.jpg)"
   ]
  },
  {
   "cell_type": "markdown",
   "id": "88f2ce59",
   "metadata": {
    "slideshow": {
     "slide_type": "subslide"
    }
   },
   "source": [
    "# Methods to create servlet"
   ]
  },
  {
   "cell_type": "markdown",
   "id": "adc4ee74",
   "metadata": {
    "slideshow": {
     "slide_type": "fragment"
    }
   },
   "source": [
    "- Implement Servlet (see [Repo](https://github.com/unict-dmi-tswd-lab/simple-servlet))"
   ]
  },
  {
   "cell_type": "markdown",
   "id": "a6d66630",
   "metadata": {
    "slideshow": {
     "slide_type": "fragment"
    }
   },
   "source": [
    "- Extend GenericServlet (see [JavaTutorial](https://static.javatpoint.com/src/servlet/genericexample.zip)) "
   ]
  },
  {
   "cell_type": "markdown",
   "id": "95d49536",
   "metadata": {
    "slideshow": {
     "slide_type": "fragment"
    }
   },
   "source": [
    "- Extend HttpServlet "
   ]
  },
  {
   "cell_type": "markdown",
   "id": "0494c45f",
   "metadata": {
    "slideshow": {
     "slide_type": "subslide"
    }
   },
   "source": [
    "![](https://i.imgflip.com/72a4lw.jpg)\n",
    "[NicsMeme](https://imgflip.com/i/72a4lw)"
   ]
  },
  {
   "cell_type": "markdown",
   "id": "6cd8e852",
   "metadata": {
    "slideshow": {
     "slide_type": "slide"
    }
   },
   "source": [
    "# Building a Web Application"
   ]
  },
  {
   "cell_type": "markdown",
   "id": "b30a5956",
   "metadata": {
    "slideshow": {
     "slide_type": "slide"
    }
   },
   "source": [
    "# Maven archetypes\n",
    "https://maven.apache.org/guides/introduction/introduction-to-archetypes.html"
   ]
  },
  {
   "cell_type": "markdown",
   "id": "8a946396",
   "metadata": {
    "slideshow": {
     "slide_type": "slide"
    }
   },
   "source": [
    "## maven-archetype-webapp\n",
    "https://maven.apache.org/archetypes/maven-archetype-webapp/"
   ]
  },
  {
   "cell_type": "markdown",
   "id": "6e88143d",
   "metadata": {
    "slideshow": {
     "slide_type": "subslide"
    }
   },
   "source": [
    "```bash\n",
    "mvn archetype:generate -DarchetypeGroupId=org.apache.maven.archetypes -DarchetypeArtifactId=maven-archetype-webapp -DarchetypeVersion=1.4\n",
    "```"
   ]
  },
  {
   "cell_type": "markdown",
   "id": "16699576",
   "metadata": {
    "slideshow": {
     "slide_type": "subslide"
    }
   },
   "source": [
    "```\n",
    "[INFO] ----------------------------------------------------------------------------\n",
    "[INFO] Using following parameters for creating project from Archetype: maven-archetype-webapp:1.4\n",
    "[INFO] ----------------------------------------------------------------------------\n",
    "[INFO] Parameter: groupId, Value: edu.unict.tswd.webapp.scratch\n",
    "[INFO] Parameter: artifactId, Value: scratch\n",
    "[INFO] Parameter: version, Value: 1.0-SNAPSHOT\n",
    "[INFO] Parameter: package, Value: war\n",
    "[INFO] Parameter: packageInPathFormat, Value: war\n",
    "[INFO] Parameter: package, Value: war\n",
    "[INFO] Parameter: version, Value: 1.0-SNAPSHOT\n",
    "[INFO] Parameter: groupId, Value: edu.unict.tswd.webapp.scratch\n",
    "[INFO] Parameter: artifactId, Value: scratch\n",
    "```"
   ]
  },
  {
   "cell_type": "markdown",
   "id": "b4801d88",
   "metadata": {
    "slideshow": {
     "slide_type": "subslide"
    }
   },
   "source": [
    "Build using\n",
    "```bash\n",
    "mvn install\n",
    "```\n",
    "\n",
    "produces a WAR that can be deployed in tomcat as we know"
   ]
  },
  {
   "cell_type": "markdown",
   "id": "412e69ad",
   "metadata": {
    "slideshow": {
     "slide_type": "subslide"
    }
   },
   "source": [
    "## Jetty\n",
    "https://www.eclipse.org/jetty/documentation/jetty-11/programming-guide/index.html#jetty-run-goal"
   ]
  },
  {
   "cell_type": "markdown",
   "id": "a3ae2fca",
   "metadata": {
    "slideshow": {
     "slide_type": "subslide"
    }
   },
   "source": [
    "Let's add in pom.xml\n",
    "```xml\n",
    "<plugin>\n",
    "    <groupId>org.eclipse.jetty</groupId>\n",
    "    <artifactId>jetty-maven-plugin</artifactId>\n",
    "    <configuration>\n",
    "    <scan>10</scan>\n",
    "    </configuration>\n",
    "</plugin>\n",
    "```\n",
    "and\n",
    "```bash\n",
    "mvn jetty:run\n",
    "```"
   ]
  },
  {
   "cell_type": "markdown",
   "id": "06ec03cf",
   "metadata": {
    "slideshow": {
     "slide_type": "slide"
    }
   },
   "source": [
    "# Add a servlet, the hard way"
   ]
  },
  {
   "cell_type": "markdown",
   "id": "058c7f00",
   "metadata": {
    "slideshow": {
     "slide_type": "subslide"
    }
   },
   "source": [
    "## Edit pom.xml"
   ]
  },
  {
   "cell_type": "markdown",
   "id": "c03938b3",
   "metadata": {
    "slideshow": {
     "slide_type": "fragment"
    }
   },
   "source": [
    "```xml\n",
    "<dependency>\n",
    "            <groupId>jakarta.servlet</groupId>\n",
    "            <artifactId>jakarta.servlet-api</artifactId>\n",
    "            <version>6.0.0</version>\n",
    "            <scope>provided</scope>\n",
    "</dependency>\n",
    "```     "
   ]
  },
  {
   "cell_type": "markdown",
   "id": "e9c60a06",
   "metadata": {
    "slideshow": {
     "slide_type": "subslide"
    }
   },
   "source": [
    "## Add Class\n",
    "- cd src/main\n",
    "- mkdir -p java/edu/unict/tswd/webapp\n",
    "- Create a java file HelloWorld.java"
   ]
  },
  {
   "cell_type": "markdown",
   "id": "f3bd7aa3",
   "metadata": {
    "slideshow": {
     "slide_type": "subslide"
    }
   },
   "source": [
    "```java\n",
    "package edu.unict.tswd.webapp;\n",
    "\n",
    "import jakarta.servlet.http.HttpServlet;\n",
    "import jakarta.servlet.http.HttpServletRequest;\n",
    "import jakarta.servlet.http.HttpServletResponse;\n",
    "\n",
    "import java.io.IOException;\n",
    "import java.io.PrintWriter;\n",
    "\n",
    "public class HelloWorld extends HttpServlet {\n",
    "    public void doGet(HttpServletRequest request, HttpServletResponse response) throws IOException {\n",
    "        response.setContentType(\"text/html\");\n",
    "        PrintWriter out = null;\n",
    "        try {\n",
    "            out = response.getWriter();\n",
    "        } catch (IOException e) {\n",
    "            e.printStackTrace();\n",
    "        }\n",
    "        out.write(\"<html>\");\n",
    "        out.write(\"<head><title></title></head>\");\n",
    "        out.write(\"<body>\");\n",
    "        out.write(\"<h1>Hello Servlet World</h1>\");\n",
    "        out.write(\"</body></html>\");\n",
    "    }\n",
    "}\n",
    "```"
   ]
  },
  {
   "cell_type": "markdown",
   "id": "69b9dadc",
   "metadata": {
    "slideshow": {
     "slide_type": "subslide"
    }
   },
   "source": [
    "## Edit web.xml"
   ]
  },
  {
   "cell_type": "markdown",
   "id": "cb714b63",
   "metadata": {},
   "source": [
    "```xml\n",
    "<!DOCTYPE web-app PUBLIC\n",
    " \"-//Sun Microsystems, Inc.//DTD Web Application 2.3//EN\"\n",
    " \"http://java.sun.com/dtd/web-app_2_3.dtd\" >\n",
    "\n",
    "<web-app>\n",
    "  <display-name>Archetype Created Web Application</display-name>\n",
    "  <servlet>\n",
    "    <servlet-name>HelloWorld</servlet-name>\n",
    "    <servlet-class>edu.unict.tswd.webapp.HelloWorld</servlet-class>\n",
    "  </servlet>\n",
    "\n",
    "  <servlet-mapping>\n",
    "    <servlet-name>HelloWorld</servlet-name>\n",
    "    <url-pattern>/hello</url-pattern>\n",
    "  </servlet-mapping>\n",
    "</web-app>\n",
    "\n",
    "```"
   ]
  },
  {
   "cell_type": "markdown",
   "id": "3f92c9da",
   "metadata": {
    "slideshow": {
     "slide_type": "subslide"
    }
   },
   "source": [
    "@WebServlet annotation may work too but jetty creates some problem"
   ]
  },
  {
   "cell_type": "markdown",
   "id": "86f53ca9",
   "metadata": {
    "slideshow": {
     "slide_type": "slide"
    }
   },
   "source": [
    "## An example with Jakarta  "
   ]
  },
  {
   "cell_type": "markdown",
   "id": "4251c142",
   "metadata": {
    "slideshow": {
     "slide_type": "subslide"
    }
   },
   "source": [
    "Go to https://start.jakarta.ee/\n",
    "\n",
    "We may use Glassfish"
   ]
  },
  {
   "cell_type": "markdown",
   "id": "70fad8e5",
   "metadata": {
    "slideshow": {
     "slide_type": "subslide"
    }
   },
   "source": [
    "```bash\n",
    "mvn archetype:generate -DarchetypeGroupId=org.eclipse.starter -DarchetypeArtifactId=jakartaee9.1-minimal -DarchetypeVersion=1.0.0 -DgroupId=edu.unict.tswd.webapp -DartifactId=scratchee -Dprofile=web-api -Dversion=1.0.0-SNAPSHOT -DinteractiveMode=false\n",
    "```"
   ]
  },
  {
   "cell_type": "markdown",
   "id": "7e6c89e7",
   "metadata": {
    "slideshow": {
     "slide_type": "slide"
    }
   },
   "source": [
    "## Payara\n",
    "\n",
    "https://www.payara.fish/page/free-trials/"
   ]
  },
  {
   "cell_type": "markdown",
   "id": "24202605",
   "metadata": {
    "slideshow": {
     "slide_type": "slide"
    }
   },
   "source": [
    "# IDE"
   ]
  },
  {
   "cell_type": "markdown",
   "id": "ee8f3d16",
   "metadata": {
    "slideshow": {
     "slide_type": "slide"
    }
   },
   "source": [
    "# Idea Ultimate\n",
    "https://www.jetbrains.com/help/idea/creating-and-running-your-first-java-ee-application.html"
   ]
  },
  {
   "cell_type": "markdown",
   "id": "82789509",
   "metadata": {
    "slideshow": {
     "slide_type": "subslide"
    }
   },
   "source": [
    "![](images/idea-newprojectee.png)"
   ]
  },
  {
   "cell_type": "markdown",
   "id": "c54e01f2",
   "metadata": {},
   "source": [
    "![](images/idea-newprojectee2.png)"
   ]
  },
  {
   "cell_type": "markdown",
   "id": "946f7143",
   "metadata": {},
   "source": [
    "![](https://i.imgflip.com/72i6nz.jpg)\n",
    "[NicsMeme](https://imgflip.com/i/72i6nz)"
   ]
  },
  {
   "cell_type": "markdown",
   "id": "141da95a",
   "metadata": {
    "slideshow": {
     "slide_type": "slide"
    }
   },
   "source": [
    "## Visual Studio Code"
   ]
  },
  {
   "cell_type": "markdown",
   "id": "b581a4e1",
   "metadata": {
    "slideshow": {
     "slide_type": "subslide"
    }
   },
   "source": [
    "Meme Here Sad :)"
   ]
  },
  {
   "cell_type": "markdown",
   "id": "75766ddf",
   "metadata": {
    "slideshow": {
     "slide_type": "subslide"
    }
   },
   "source": [
    "## References\n",
    "- https://maven.apache.org/archetypes/maven-archetype-webapp/\n",
    "- https://dev.to/hantsy_26/building-your-own-maven-archetype-gm8\n",
    "- https://itnext.io/building-jakarta-ee-9-web-application-with-servlet-containers-b3acc50c8464\n",
    "- https://start.jakarta.ee/\n",
    "- https://www.javatpoint.com/steps-to-create-a-servlet-using-tomcat-server\n",
    "- https://www.jetbrains.com/help/idea/creating-and-running-your-first-java-ee-application.html#new_project\n",
    "- https://www.baeldung.com/tomcat-deploy-war\n",
    "- https://www.eclipse.org/jetty/documentation/jetty-11/programming-guide/index.html#jetty-maven-plugin\n",
    "- https://itnext.io/building-jakarta-ee-9-web-application-with-servlet-containers-b3acc50c8464\n",
    "- https://github.com/Azure-Samples/tomcat10-jakartaee9\n",
    "- https://blog.payara.fish/getting-started-with-jakarta-ee-9-jakarta-persistence-api-jpa\n",
    "- https://itnext.io/whats-new-in-jakarta-persistence-3-1-by-examples-81b292e8b3a4\n",
    "- https://maven.apache.org/archetypes/maven-archetype-webapp/\n",
    "- https://itnext.io/generate-a-jakarta-ee-9-project-skeleton-from-maven-archetype-2b9fc9ce9bb8 https://github.com/hantsy/maven-archetype-jakartaee9\n",
    "- https://start.jakarta.ee/\n",
    "- https://blog.payara.fish/getting-started-with-jakarta-ee-9-hello-world"
   ]
  }
 ],
 "metadata": {
  "celltoolbar": "Slideshow",
  "kernelspec": {
   "display_name": "Python 3 (ipykernel)",
   "language": "python",
   "name": "python3"
  },
  "language_info": {
   "codemirror_mode": {
    "name": "ipython",
    "version": 3
   },
   "file_extension": ".py",
   "mimetype": "text/x-python",
   "name": "python",
   "nbconvert_exporter": "python",
   "pygments_lexer": "ipython3",
   "version": "3.10.12"
  },
  "rise": {
   "autolaunch": true,
   "enable_chalkboard": "true",
   "footer": "<div class=\"tswd-footer\"> *** TSWD - 2023 ***</div>",
   "header": "<div class=\"tswd-header\"></div>",
   "scroll": true,
   "theme": "white"
  }
 },
 "nbformat": 4,
 "nbformat_minor": 5
}
