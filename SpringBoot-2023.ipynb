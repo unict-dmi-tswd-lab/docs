{
 "cells": [
  {
   "cell_type": "raw",
   "id": "f6947cbb-7edb-433f-ba32-1a8fdc36bd75",
   "metadata": {},
   "source": [
    "---\n",
    "title: \"Spring Boot\"\n",
    "author: \"Salvo Nicotra\"\n",
    "format: revealjs\n",
    "incremental: true  \n",
    "theme: white\n",
    "chalkboard: true\n",
    "css: style.css\n",
    "smaller: true\n",
    "# scrollable: true\n",
    "include-before: |\n",
    "    <img src=\"images/unict-logo.png\" class=\"custom-logo\" alt=\"Logo\">\n",
    "include-after: |\n",
    "      <div class=\"custom-footer\">\n",
    "        *** Web and Service Oriented Systems and Laboratory (WSOS) - 2024/2025 ***\n",
    "      </div>\n",
    "---"
   ]
  },
  {
   "cell_type": "markdown",
   "id": "b98e7c12-4346-4e98-907a-be64e4ed397f",
   "metadata": {
    "editable": true,
    "slideshow": {
     "slide_type": "slide"
    },
    "tags": []
   },
   "source": [
    "# Spring Boot"
   ]
  },
  {
   "cell_type": "markdown",
   "id": "33384dcd",
   "metadata": {
    "slideshow": {
     "slide_type": "subslide"
    }
   },
   "source": [
    "## What is Spring Boot ?\n",
    "<https://spring.io/projects/spring-boot>\n",
    "\n",
    ":::: {.columns}\n",
    "\n",
    "::: {.fragment .column width=\"50%\"}\n",
    "Spring Boot makes it easy to create:\n",
    "\n",
    "- stand-alone\n",
    "- production-grade\n",
    "- spring based Applications that you can \"just run\".\n",
    "::: \n",
    "\n",
    "::: {.fragment .column width=\"50%\"}\n",
    "![](https://i.imgflip.com/74r18c.jpg)\n",
    "[NicsMeme](https://imgflip.com/i/74r18c)\n",
    ":::\n",
    "::::\n"
   ]
  },
  {
   "cell_type": "markdown",
   "id": "7c9fef8e",
   "metadata": {
    "editable": true,
    "slideshow": {
     "slide_type": "slide"
    },
    "tags": []
   },
   "source": [
    "## Why Spring ?\n",
    "<https://spring.io/why-spring>\n",
    "\n",
    "- Spring makes programming Java quicker, easier, and safer for everybody.\n",
    "- Spring’s focus on speed, simplicity, and productivity has made it the world's most popular Java framework.\n",
    "\n"
   ]
  },
  {
   "cell_type": "markdown",
   "id": "0ee558f7-5926-4230-8828-99f375cce1f5",
   "metadata": {
    "editable": true,
    "slideshow": {
     "slide_type": "subslide"
    },
    "tags": []
   },
   "source": [
    "### Approaches used in system design worldwide in 2023\n",
    "<https://www.statista.com/statistics/1450635/system-design-approaches//>\n",
    "![](images/system-design-2023.png)\n"
   ]
  },
  {
   "cell_type": "markdown",
   "id": "a38db637",
   "metadata": {
    "editable": true,
    "slideshow": {
     "slide_type": "subslide"
    },
    "tags": []
   },
   "source": [
    "### Primary programming languages among microservices developers worldwide in 2022\n",
    "<https://www.statista.com/statistics/1273806/microservice-developers-programming-language/>\n",
    "![](images/statista-microservlices-dev-2022.png)\n"
   ]
  },
  {
   "cell_type": "markdown",
   "id": "76213d5b-f845-4f63-94c1-3243fbc9c620",
   "metadata": {
    "editable": true,
    "slideshow": {
     "slide_type": ""
    },
    "tags": []
   },
   "source": [
    "### Which languages do you use to develop microservices?\n",
    "<https://www.jetbrains.com/lp/devecosystem-2022/microservices/>\n",
    "![](images/language-microservices-2022-jetbrain.png)\n",
    "\n",
    "\n"
   ]
  },
  {
   "cell_type": "markdown",
   "id": "30390607",
   "metadata": {
    "editable": true,
    "slideshow": {
     "slide_type": "subslide"
    },
    "tags": []
   },
   "source": [
    "## Java Microservices Framework\n",
    "<https://www.jrebel.com/success/resources/2024-Java-developer-productivity-report>\n",
    "\n",
    "::: {.r-stack}\n",
    "\n",
    "![](images/java-developer-productivity-microservices-2022.png){.fragment}\n",
    "\n",
    "![](images/java-developer-productivity-microservices-2023.png){.fragment}\n",
    "\n",
    "![](images/java-developer-productivity-microservices-2024.png){.fragment}\n",
    "\n",
    "![](images/springbootvsothers.png){.fragment}\n",
    ":::\n"
   ]
  },
  {
   "cell_type": "markdown",
   "id": "c21927ed",
   "metadata": {
    "editable": true,
    "slideshow": {
     "slide_type": "slide"
    },
    "tags": []
   },
   "source": [
    "## What can Spring do ?"
   ]
  },
  {
   "cell_type": "markdown",
   "id": "d743491f",
   "metadata": {
    "cell_style": "split",
    "editable": true,
    "slideshow": {
     "slide_type": "subslide"
    },
    "tags": []
   },
   "source": [
    "### Microservices\n",
    "\n",
    "<https://spring.io/microservices>\n",
    "\n",
    ":::: {.columns}\n",
    "\n",
    "::: {.fragment .column width=\"50%\"}\n",
    "- Quickly deliver production‑grade features with independently evolvable microservices.\n",
    "- With Spring Boot, your microservices can start small and iterate fast. That’s why it has become the de facto standard for Java™ microservices. \n",
    "- Quickstart your project with Spring Initializr and then package as a JAR. With Spring Boot’s embedded server model, you’re ready to go in minutes.\n",
    "\n",
    "::: \n",
    "::: {.fragment .column width=\"50%\"}\n",
    "![](https://raw.githubusercontent.com/spring-io/sagan/main/sagan-client/src/images/microservices.svg){.r-scratch}\n",
    ":::\n",
    "::::"
   ]
  },
  {
   "cell_type": "markdown",
   "id": "554b2c9b",
   "metadata": {
    "cell_style": "split",
    "editable": true,
    "slideshow": {
     "slide_type": "subslide"
    },
    "tags": []
   },
   "source": [
    "### Reactive\n",
    "<https://spring.io/reactive>\n",
    "\n",
    ":::: {.columns}\n",
    "\n",
    "::: {.fragment .column width=\"50%\"}\n",
    "Spring's asynchronous, nonblocking architecture means you can get more from your computing resources.\n",
    "\n",
    "- One of the main reasons developers move from blocking to non-blocking code is efficiency. Reactive code does more work with fewer resources\n",
    "- The Spring portfolio provides two parallel stacks. One is based on a Servlet API with Spring MVC and Spring Data constructs.\n",
    "::: \n",
    "\n",
    "::: {.fragment .column width=\"50%\"}\n",
    "![](https://raw.githubusercontent.com/spring-io/sagan/main/sagan-client/src/images/reactive.svg){.r-scratch}\n",
    ":::\n",
    "::::\n",
    "\n",
    "\n"
   ]
  },
  {
   "cell_type": "markdown",
   "id": "3e627e1c",
   "metadata": {
    "cell_style": "split",
    "editable": true,
    "slideshow": {
     "slide_type": "subslide"
    },
    "tags": []
   },
   "source": [
    "### Cloud\n",
    "<https://spring.io/cloud>\n",
    "\n",
    ":::: {.columns}\n",
    "\n",
    "::: {.fragment .column width=\"50%\"}\n",
    "- Your code, any cloud—we’ve got you covered. Connect and scale your services, whatever your platform.\n",
    "\n",
    "- Developing distributed systems can be challenging. Complexity is moved from the application layer to the network layer and demands greater interaction between services. \n",
    "\n",
    "- Making your code ‘cloud-native’ means dealing with [12-factor](https://12factor.net/) issues such as external configuration, statelessness, logging, and connecting to backing services.\n",
    "\n",
    "::: \n",
    "\n",
    "::: {.fragment .column width=\"50%\"}\n",
    "![](https://raw.githubusercontent.com/spring-io/sagan/main/sagan-client/src/images/cloud.svg){.r-scratch}\n",
    ":::\n",
    "::::\n",
    "\n",
    "\n"
   ]
  },
  {
   "cell_type": "markdown",
   "id": "2b74fd9c",
   "metadata": {
    "cell_style": "split",
    "editable": true,
    "slideshow": {
     "slide_type": "subslide"
    },
    "tags": []
   },
   "source": [
    "### Serverless\n",
    "<https://spring.io/serverless>\n",
    "\n",
    ":::: {.columns}\n",
    "\n",
    "::: {.fragment .column width=\"70%\"}\n",
    "- The ultimate flexibility. Scale up on demand and scale to zero when there’s no demand.\n",
    "\n",
    "- In serverless workloads, concern like “how many instances to run” and “what operating system to use” are all managed by a Function as a Service platform (or FaaS), leaving developers free to focus on business logic.\n",
    "\n",
    "- Spring Cloud Function provides:\n",
    "1. capabilities that lets Spring developers take advantage of serverless or FaaS platforms.\n",
    "2. adaptors on the most common FaaS services including Amazon Lambda, Apache OpenWhisk, Microsoft Azure, and Project Riff.\n",
    "\n",
    "::: \n",
    "\n",
    "::: {.fragment .column width=\"30%\"}\n",
    "![](https://raw.githubusercontent.com/spring-io/sagan/main/sagan-client/src/images/serverless.svg){.r-scratch}\n",
    ":::\n",
    "::::\n",
    "\n"
   ]
  },
  {
   "cell_type": "markdown",
   "id": "0b3974d0",
   "metadata": {
    "cell_style": "split",
    "editable": true,
    "slideshow": {
     "slide_type": "subslide"
    },
    "tags": []
   },
   "source": [
    "### Event Driven \n",
    "\n",
    "<https://spring.io/event-driven>\n",
    "\n",
    ":::: {.columns}\n",
    "\n",
    "::: {.fragment .column width=\"50%\"}\n",
    "- Integrate with your enterprise. React to business events. Act on your streaming data in realtime.\n",
    "\n",
    "- Spring Cloud Stream improves your productivity when working with Apache Kafka, RabbitMQ, Azure Event Hub, and more, providing three key abstractions to simplify your code\n",
    "::: \n",
    "\n",
    "::: {.fragment .column width=\"50%\"}\n",
    "![](https://raw.githubusercontent.com/spring-io/sagan/main/sagan-client/src/images/streams.svg){.r-scratch}\n",
    ":::\n",
    "::::\n",
    "\n",
    "\n"
   ]
  },
  {
   "cell_type": "markdown",
   "id": "5b78ea44",
   "metadata": {
    "cell_style": "split",
    "editable": true,
    "slideshow": {
     "slide_type": "subslide"
    },
    "tags": []
   },
   "source": [
    "### Batch\n",
    "\n",
    "<https://spring.io/batch>\n",
    "\n",
    ":::: {.columns}\n",
    "\n",
    "::: {.fragment .column width=\"50%\"}\n",
    "- Automated tasks. Offline processing of data at a time to suit you.\n",
    "\n",
    "- Spring Batch is the de facto standard for batch processing on the JVM. Its implementation of common batch patterns, such as chunk-based processing and partitioning, lets you create high-performing, scalable batch applications that are resilient enough for your most mission-critical processes. Spring Boot provides an additional level of production-grade features to let you speed up the development of your batch processes.\n",
    "::: \n",
    "\n",
    "::: {.fragment .column width=\"50%\"}\n",
    "![](https://raw.githubusercontent.com/spring-io/sagan/main/sagan-client/src/images/batch.svg){.r-scratch}\n",
    ":::\n",
    "::::\n",
    "\n",
    "\n"
   ]
  },
  {
   "cell_type": "markdown",
   "id": "c67d33d7",
   "metadata": {
    "cell_style": "split",
    "editable": true,
    "slideshow": {
     "slide_type": "subslide"
    },
    "tags": []
   },
   "source": [
    "### Web Apps\n",
    "<https://spring.io/web-applications> \n",
    "\n",
    ":::: {.columns}\n",
    "\n",
    "::: {.fragment .column width=\"50%\"}\n",
    "- Frameworks for fast, secure, and responsive web applications connected to any data store.\n",
    "- Spring makes building web applications fast and hassle-free. \n",
    "- By removing much of the boilerplate code and configuration associated with web development, you get a modern web programming model that streamlines the development of server-side HTML applications, REST APIs, and bidirectional, event-based systems.\n",
    "::: \n",
    "\n",
    "::: {.fragment .column width=\"50%\"}\n",
    "![](https://spring.io/img/icons/web-apps.svg){.r-scratch}\n",
    ":::\n",
    "::::\n",
    "\n"
   ]
  },
  {
   "cell_type": "markdown",
   "id": "d87ac4ce",
   "metadata": {
    "editable": true,
    "slideshow": {
     "slide_type": "slide"
    },
    "tags": []
   },
   "source": [
    "# Learn by example"
   ]
  },
  {
   "cell_type": "markdown",
   "id": "d8314f70-da3a-4770-b5f1-6e025b804e7d",
   "metadata": {
    "editable": true,
    "slideshow": {
     "slide_type": ""
    },
    "tags": []
   },
   "source": [
    "## Install VS Code Extension\n",
    "\n",
    "https://marketplace.visualstudio.com/items?itemName=vmware.vscode-boot-dev-pack"
   ]
  },
  {
   "cell_type": "markdown",
   "id": "4814b22a",
   "metadata": {
    "editable": true,
    "slideshow": {
     "slide_type": "subslide"
    },
    "tags": []
   },
   "source": [
    "## Hello World Spring Boot\n",
    "\n",
    ":::: {.columns}\n",
    "\n",
    "::: {.fragment .column width=\"50%\"}\n",
    "Open VSCode CTRL+SHIFT+P: \n",
    "```\n",
    "- Spring Initializr: Create a Maven Project\n",
    "- Version 3.4.0 \n",
    "- Language: Java\n",
    "- Group: edu.unict.tswd.springboot\n",
    "- Artifact: helloworld\n",
    "- Packaging: Jar\n",
    "- Java Version: 17\n",
    "- Add Spring Web as dependency\n",
    "\n",
    "```\n",
    "\n",
    "\n",
    "\n",
    "\n",
    "::: \n",
    "\n",
    "::: {.fragment .column width=\"50%\"}\n",
    "::: {.callout-note}\n",
    "It's possible to create a starter also from <https://start.spring.io/>\n",
    ":::\n",
    ":::\n",
    "::::"
   ]
  },
  {
   "cell_type": "markdown",
   "id": "ea1f65d1",
   "metadata": {
    "cell_style": "split",
    "editable": true,
    "slideshow": {
     "slide_type": "subslide"
    },
    "tags": []
   },
   "source": [
    "![](https://m.media-amazon.com/images/I/A13usaonutL._CLa%7C2140%2C2000%7C61UniGC7%2BNL.png%7C0%2C0%2C2140%2C2000%2B0.0%2C0.0%2C2140.0%2C2000.0_AC_UL1500_.png)\n",
    "\n",
    "https://arnaud-nauwynck.github.io/docs/Intro-SpringBoot.pdf"
   ]
  },
  {
   "cell_type": "markdown",
   "id": "9ac7762a",
   "metadata": {
    "editable": true,
    "jp-MarkdownHeadingCollapsed": true,
    "slideshow": {
     "slide_type": "subslide"
    },
    "tags": []
   },
   "source": [
    "## Edit the code\n",
    "- Open the project (should be automatic)\n",
    "- Check for main class HelloworldApplication"
   ]
  },
  {
   "cell_type": "markdown",
   "id": "018bf612",
   "metadata": {
    "editable": true,
    "slideshow": {
     "slide_type": "subslide"
    },
    "tags": []
   },
   "source": [
    "## Add a static content\n",
    "in src/resources/static add an HTML file named index.html\n",
    "```html\n",
    "<!DOCTYPE html>\n",
    "<html lang=\"en\">\n",
    "<head>\n",
    "    <meta charset=\"UTF-8\">\n",
    "    <title>Title</title>\n",
    "</head>\n",
    "<body>\n",
    "<h1>Hello World</h1>\n",
    "</body>\n",
    "</html>\n",
    "```"
   ]
  },
  {
   "cell_type": "markdown",
   "id": "9fb16ef5",
   "metadata": {
    "editable": true,
    "slideshow": {
     "slide_type": "subslide"
    },
    "tags": []
   },
   "source": [
    "## Run \n",
    "- Using VS Extension \n",
    "- Terminal ```bash ./mvnw spring-boot:run ```\n",
    "\n",
    "::: {.callout-note}\n",
    "Note the use of a mvnw that make sure uses the right version of maven\n",
    ":::\n"
   ]
  },
  {
   "cell_type": "markdown",
   "id": "1ae26e42",
   "metadata": {
    "editable": true,
    "slideshow": {
     "slide_type": "subslide"
    },
    "tags": []
   },
   "source": [
    "## First Result\n",
    "\n",
    "http://localhost:8080/"
   ]
  },
  {
   "cell_type": "markdown",
   "id": "0f231b7f",
   "metadata": {
    "slideshow": {
     "slide_type": "subslide"
    }
   },
   "source": [
    "## Create a package and run it\n",
    "```bash\n",
    "./mvnw install \n",
    "java -jar target/helloworld-0.0.1-SNAPSHOT.jar\n",
    "```\n"
   ]
  },
  {
   "cell_type": "markdown",
   "id": "685afa75",
   "metadata": {
    "editable": true,
    "slideshow": {
     "slide_type": "slide"
    },
    "tags": []
   },
   "source": [
    "## Spring Boot Web\n",
    "<https://docs.spring.io/spring-boot/reference/web/index.html>\n",
    "\n",
    ":::: {.columns}\n",
    "\n",
    "::: {.fragment .column width=\"50%\"}\n",
    "Contains all needed to build:\n",
    "\n",
    "- web app\n",
    "- web services\n",
    "::: \n",
    "\n",
    "::: {.fragment .column width=\"50%\"}\n",
    "![](https://i.imgflip.com/75034f.jpg)\n",
    ":::\n",
    "::::"
   ]
  },
  {
   "cell_type": "markdown",
   "id": "42fc73d4",
   "metadata": {
    "slideshow": {
     "slide_type": "subslide"
    }
   },
   "source": [
    "## Tomcat Inside\n",
    "- Spring boot adds Tomcat (no need to install) in the final package\n",
    "- with Default [Configuration](https://docs.spring.io/spring-boot/docs/2.1.9.RELEASE/reference/html/howto-embedded-web-servers.html) -> Needs to be configured\n",
    "- Other Container Server are possible (Jetty, ...)\n",
    "- Configuration goes in application.properties or application.yaml"
   ]
  },
  {
   "cell_type": "markdown",
   "id": "799ed77e",
   "metadata": {
    "slideshow": {
     "slide_type": "subslide"
    }
   },
   "source": [
    "## Json Inside\n",
    "\n",
    ":::: {.columns}\n",
    "\n",
    "::: {.fragment .column width=\"50%\"}\n",
    "\n",
    "- Jackson library included \n",
    "- Automatic (un)marshalling\n",
    "\n",
    "::: \n",
    "\n",
    "::: {.fragment .column width=\"50%\"}\n",
    "![](https://www.logicbig.com/tutorials/misc/jackson/images/jackson.png)\n",
    "\n",
    "<https://github.com/FasterXML/jackson>\n",
    ":::\n",
    "::::"
   ]
  },
  {
   "cell_type": "markdown",
   "id": "65ac2ddc",
   "metadata": {
    "slideshow": {
     "slide_type": "subslide"
    }
   },
   "source": [
    "# Spring Boot Web Application\n"
   ]
  },
  {
   "cell_type": "markdown",
   "id": "1fba5a65",
   "metadata": {
    "slideshow": {
     "slide_type": "subslide"
    }
   },
   "source": [
    "## MVC pattern\n",
    "\n",
    ":::: {.columns}\n",
    "\n",
    "::: {.fragment .column width=\"50%\"}\n",
    "The Model-View-Controller (MVC) is a software architectural pattern used to separate concerns in application development. It organizes the code into three interconnected components: Model, View, and Controller, promoting modularity and reusability.\n",
    "\n",
    "\n",
    "- Model: Manages application data and business logic, handling updates and storage.\n",
    "- View: Displays data to users, updating dynamically when the Model changes.\n",
    "- Controller: Processes user input, updates the Model, and coordinates with the View.\n",
    "::: \n",
    "\n",
    "::: {.fragment .column width=\"50%\"}\n",
    "![](https://upload.wikimedia.org/wikipedia/commons/thumb/a/a0/MVC-Process.svg/400px-MVC-Process.svg.png)\n",
    "<https://en.wikipedia.org/wiki/Model–view–controller>\n",
    ":::\n",
    "::::\n",
    "\n",
    "\n",
    "\n"
   ]
  },
  {
   "cell_type": "markdown",
   "id": "0c85c943",
   "metadata": {
    "editable": true,
    "jp-MarkdownHeadingCollapsed": true,
    "slideshow": {
     "slide_type": "subslide"
    },
    "tags": []
   },
   "source": [
    "## Let's create the \"student\" project\n",
    "\n",
    "Open VSCode CTRL+SHIFT+P: \n",
    "```\n",
    "- Spring Initializr: Create a Maven Project\n",
    "- Version 3.4.0 \n",
    "- Language: Java\n",
    "- Group: edu.unict.wsos\n",
    "- Artifact: student\n",
    "- Packaging: Jar\n",
    "- Java Version: 17\n",
    "- Add Spring Web. Thymeleaf as dependency\n",
    "\n",
    "```"
   ]
  },
  {
   "cell_type": "markdown",
   "id": "16326a75",
   "metadata": {
    "slideshow": {
     "slide_type": "subslide"
    }
   },
   "source": [
    "## View: Thymeleaf Templates\n",
    "\n",
    ":::: {.columns}\n",
    "\n",
    "::: {.fragment .column width=\"50%\"}\n",
    "\n",
    "<https://www.thymeleaf.org/>\n",
    "\n",
    "- Thymeleaf is a modern server-side Java template engine for both web and standalone environments.\n",
    "- Thymeleaf's main goal is to bring elegant natural templates to your development workflow — HTML that can be correctly displayed in browsers and also work as static prototypes, allowing for stronger collaboration in development teams.\n",
    "::: \n",
    "\n",
    "::: {.fragment .column width=\"50%\"}\n",
    "**Template Engines**\n",
    "\n",
    "- <https://en.wikipedia.org/wiki/Web_template_system>\n",
    "- <https://en.wikipedia.org/wiki/Comparison_of_web_template_engines>\n",
    "- <https://www.baeldung.com/spring-template-engines>\n",
    ":::\n",
    "::::\n"
   ]
  },
  {
   "cell_type": "markdown",
   "id": "516045b5",
   "metadata": {
    "slideshow": {
     "slide_type": "subslide"
    }
   },
   "source": [
    "## An example of view with thymeleaf\n",
    "\n",
    "Create an HTML file named ```students.html``` into ```resources/templates```\n",
    "\n",
    "```html\n",
    "<!DOCTYPE html>\n",
    "<html lang=\"en\" xmlns:th=\"http://www.thymeleaf.org\">\n",
    "<head>\n",
    "    <meta charset=\"UTF-8\">\n",
    "    <title>Title</title>\n",
    "</head>\n",
    "<body>\n",
    "<table>\n",
    "    <tr>\n",
    "        <th>Id</th>\n",
    "        <th>Name</th>\n",
    "    </tr>\n",
    "    <tr th:each=\"student:${students}\">\n",
    "        <td th:text=\"${student.id}\">Id</td>\n",
    "        <td th:text=\"${student.name}\">Name</td>\n",
    "    </tr>\n",
    "</table>\n",
    "</body>\n",
    "</html>\n",
    "```"
   ]
  },
  {
   "cell_type": "markdown",
   "id": "38e5daa6",
   "metadata": {
    "slideshow": {
     "slide_type": "subslide"
    }
   },
   "source": [
    "## Models\n",
    "\n",
    ":::: {.columns}\n",
    "\n",
    "::: {.fragment .column width=\"50%\"}\n",
    "- add a new package \"models\"\n",
    "- add a new class \"student\" with fields id name, constructor, getter and setter\n",
    "::: \n",
    "\n",
    "::: {.fragment .column width=\"50%\"}\n",
    "```java\n",
    "package edu.unict.wsos.student.models;\n",
    "\n",
    "public class Student {\n",
    "    private long id;\n",
    "    private String name;\n",
    "\n",
    "    public Student() {\n",
    "    }\n",
    "\n",
    "    public Student(long id, String name) {\n",
    "        this.id = id;\n",
    "        this.name = name;\n",
    "    }\n",
    "\n",
    "    public long getId() {\n",
    "        return id;\n",
    "    }\n",
    "\n",
    "    public String getName() {\n",
    "        return name;\n",
    "    }\n",
    "\n",
    "    public void setId(long id) {\n",
    "        this.id = id;\n",
    "    }\n",
    "\n",
    "    public void setName(String name) {\n",
    "        this.name = name;\n",
    "    }\n",
    "}\n",
    "```\n",
    ":::\n",
    "::::\n",
    "\n"
   ]
  },
  {
   "cell_type": "markdown",
   "id": "adff6f24",
   "metadata": {
    "slideshow": {
     "slide_type": "subslide"
    }
   },
   "source": [
    "## Package\n",
    "\n",
    ":::: {.columns}\n",
    "\n",
    "::: {.fragment .column width=\"50%\"}\n",
    "- new package \"controller\"\n",
    "- new class \"StudentController\"\n",
    "    1. annotate with \"@Controller\" \"@requestmapping to handle /students\"\n",
    "    2. in construct add a list with static elements\n",
    "    3. add a getAllStudents with @GetMapping Annotation\n",
    "::: \n",
    "\n",
    "::: {.fragment .column width=\"50%\"}\n",
    "```java\n",
    "package edu.unict.wsos.student.controllers;\n",
    "\n",
    "import edu.unict.wsos.student.models.Student;\n",
    "import org.springframework.stereotype.Controller;\n",
    "import org.springframework.web.bind.annotation.GetMapping;\n",
    "import org.springframework.web.bind.annotation.RequestMapping;\n",
    "import org.springframework.ui.Model;\n",
    "\n",
    "import java.util.ArrayList;\n",
    "import java.util.List;\n",
    "\n",
    "@Controller\n",
    "@RequestMapping(\"/students\")\n",
    "public class StudentController {\n",
    "\n",
    "    @SuppressWarnings({ \"rawtypes\", \"unchecked\" })\n",
    "    private static List<Student> students = new ArrayList();\n",
    "    // Define a static block\n",
    "    static {\n",
    "        students.add(new Student(1,\"Harry Potter\"));\n",
    "    }\n",
    "\n",
    "    @GetMapping\n",
    "    public String getAllStudents(Model model) {\n",
    "        model.addAttribute(\"students\", students);\n",
    "        return \"students\"; // Name of the template\n",
    "    }\n",
    "}\n",
    "```\n",
    ":::\n",
    "::::\n",
    "\n"
   ]
  },
  {
   "cell_type": "markdown",
   "id": "a84a5096",
   "metadata": {
    "slideshow": {
     "slide_type": "subslide"
    }
   },
   "source": [
    "## Run\n",
    "\n",
    "<http://localhost:8080/students>"
   ]
  },
  {
   "cell_type": "markdown",
   "id": "4147468f",
   "metadata": {
    "slideshow": {
     "slide_type": "subslide"
    }
   },
   "source": [
    "# Spring Data\n",
    "<https://spring.io/projects/spring-data/>\n",
    "\n",
    "- Spring Data’s mission is to provide a familiar and consistent, Spring-based programming model for data access while still retaining the special traits of the underlying data store.\n",
    "- It makes it easy to use data access technologies, relational and non-relational databases, map-reduce frameworks, and cloud-based data services. This is an umbrella project which contains many subprojects that are specific to a given database."
   ]
  },
  {
   "cell_type": "markdown",
   "id": "eaa63840",
   "metadata": {
    "slideshow": {
     "slide_type": "slide"
    }
   },
   "source": [
    "## Spring Data JPA vs JPA\n",
    "\n",
    "> Spring Data JPA is a great way to handle the complexity of JPA with the powerful simplicity of Spring Boot\n",
    "\n",
    "![](images/SpringData.jpg){.lightbox}\n",
    "<https://www.baeldung.com/spring-data-jpa-vs-jpa>"
   ]
  },
  {
   "cell_type": "markdown",
   "id": "f69d81de",
   "metadata": {
    "slideshow": {
     "slide_type": "slide"
    }
   },
   "source": [
    "## Sprint Data JPA\n",
    "- Spring Data JPA, part of the larger Spring Data family, makes it easy to easily implement JPA-based (Java Persistence API) repositories. It makes it easier to build Spring-powered applications that use data access technologies.\n",
    "- Implementing a data access layer for an application can be quite cumbersome. Too much boilerplate code has to be written to execute the simplest queries. Add things like pagination, auditing, and other often-needed options, and you end up lost."
   ]
  },
  {
   "cell_type": "markdown",
   "id": "33d85356",
   "metadata": {
    "editable": true,
    "slideshow": {
     "slide_type": "slide"
    },
    "tags": []
   },
   "source": [
    "### Repository\n",
    "\n",
    ":::: {.columns}\n",
    "\n",
    "::: {.fragment .column width=\"50%\"}\n",
    "- The central interface in the Spring Data repository abstraction is Repository. \n",
    "\n",
    "- It takes the domain class to manage as well as the identifier type of the domain class as type arguments. \n",
    "\n",
    "- This interface acts primarily as a marker interface to capture the types to work with and to help you to discover interfaces that extend this one. \n",
    "\n",
    "- The CrudRepository and ListCrudRepository interfaces provide sophisticated CRUD functionality for the entity class that is being managed.\n",
    "::: \n",
    "\n",
    "::: {.fragment .column width=\"50%\"}\n",
    "```java\n",
    "public interface CrudRepository<T, ID> extends Repository<T, ID> {\n",
    "\n",
    "  <S extends T> S save(S entity);      \n",
    "\n",
    "  Optional<T> findById(ID primaryKey); \n",
    "\n",
    "  Iterable<T> findAll();               \n",
    "\n",
    "  long count();                        \n",
    "\n",
    "  void delete(T entity);               \n",
    "\n",
    "  boolean existsById(ID primaryKey);   \n",
    "\n",
    "  // … more functionality omitted.\n",
    "}\n",
    "```\n",
    ":::\n",
    "::::\n"
   ]
  },
  {
   "cell_type": "markdown",
   "id": "f2f54cbd",
   "metadata": {
    "slideshow": {
     "slide_type": "slide"
    }
   },
   "source": [
    "### JPA Repository\n",
    "<https://docs.spring.io/spring-data/jpa/docs/current/api/org/springframework/data/jpa/repository/JpaRepository.html>\n",
    "\n",
    "Extends CRUD Repository with additional JPA-specific operations, such as batch operations and flush persistence context."
   ]
  },
  {
   "cell_type": "markdown",
   "id": "39a0d21f-e1bc-4db6-81e0-91da3c82096e",
   "metadata": {},
   "source": [
    "## Configure application.properties\n",
    "\n",
    "```properties\n",
    "spring.datasource.url=jdbc:mysql://localhost:3306/your_database_name\n",
    "spring.datasource.username=your_username\n",
    "spring.datasource.password=your_password\n",
    "spring.datasource.driver-class-name=com.mysql.cj.jdbc.Driver\n",
    "spring.jpa.hibernate.ddl-auto=update\n",
    "spring.jpa.show-sql=true\n",
    "```"
   ]
  },
  {
   "cell_type": "markdown",
   "id": "a6ba5c02",
   "metadata": {},
   "source": [
    "## Student Example with JPA\n",
    "\n",
    "<https://github.com/unict-dmi-wsos/tsdw-springboot-examples/tree/main/student-jpa>\n"
   ]
  },
  {
   "cell_type": "markdown",
   "id": "f851b10d-5672-47a8-9d5a-e7d263773f97",
   "metadata": {},
   "source": [
    "## JDBC Template\n",
    "\n"
   ]
  },
  {
   "cell_type": "markdown",
   "id": "565e08e3",
   "metadata": {
    "slideshow": {
     "slide_type": "subslide"
    }
   },
   "source": [
    "Other Examples:\n",
    "- https://github.com/spring-io/sagan\n",
    "- https://www.javatpoint.com/creating-a-simple-microservice"
   ]
  },
  {
   "cell_type": "markdown",
   "id": "e5b41226",
   "metadata": {
    "editable": true,
    "slideshow": {
     "slide_type": "slide"
    },
    "tags": []
   },
   "source": [
    "# Global Picture \n",
    "\n",
    "https://miro.com/app/board/uXjVP0nzisg=/?share_link_id=799592494742"
   ]
  },
  {
   "cell_type": "markdown",
   "id": "75766ddf",
   "metadata": {
    "slideshow": {
     "slide_type": "subslide"
    }
   },
   "source": [
    "# References\n",
    "- https://spring.io/\n",
    "- https://vived.io/new-era-for-spring-spring-framework-6-0-spring-boot-3-0-and-only-jdk-17-jvm-weekly-22/\n",
    "- https://www.linkedin.com/learning/spring-boot-2-0-essential-training-2/\n",
    "- https://www.tutorialspoint.com/spring_boot/spring_boot_tutorial.pdf\n",
    "- https://docs.spring.io/spring-boot/docs/current/reference/pdf/spring-boot-reference.pdf\n",
    "- https://www.baeldung.com/spring-boot-3-spring-6-new\n",
    "- https://arnaud-nauwynck.github.io/docs/Intro-SpringBoot.pdf\n",
    "- http://cabibbo.dia.uniroma3.it/asw/pdf/asw825-spring-boot.pdf\n",
    "- https://www.linkedin.com/learning/spring-boot-2-0-essential-training-2/\n",
    "- https://www.geeksforgeeks.org/java-spring-boot-microservices-sample-project/\n",
    "- https://www.javatpoint.com/creating-a-simple-microservice\n",
    "- https://github.com/WendellAdriel/spring-microservices\n",
    "- https://www.twilio.com/blog/java-custom-queries-jdbctemplate-springboot\n",
    "- https://www.baeldung.com/spring-pathvariable\n",
    "- https://bushansirgur.in/spring-data-jpa-finder-methods-by-field-name-with-examples/\n",
    "- https://dev.to/brunodrugowick/four-steps-to-extend-a-spring-data-jpa-repository-with-your-own-code-53b0\n",
    "\n",
    "Books\n",
    "- Learning Spring Boot 3.0 - Third Edition\n",
    "- Beginning Spring Boot 3"
   ]
  },
  {
   "cell_type": "code",
   "execution_count": null,
   "id": "fe734138",
   "metadata": {},
   "outputs": [],
   "source": []
  }
 ],
 "metadata": {
  "celltoolbar": "Slideshow",
  "kernelspec": {
   "display_name": "Python 3 (ipykernel)",
   "language": "python",
   "name": "python3"
  },
  "language_info": {
   "codemirror_mode": {
    "name": "ipython",
    "version": 3
   },
   "file_extension": ".py",
   "mimetype": "text/x-python",
   "name": "python",
   "nbconvert_exporter": "python",
   "pygments_lexer": "ipython3",
   "version": "3.10.12"
  },
  "rise": {
   "autolaunch": true,
   "enable_chalkboard": "true",
   "footer": "<div class=\"tswd-footer\"> *** TSWD - 2023 ***</div>",
   "header": "<div class=\"tswd-header\"></div>",
   "scroll": true,
   "theme": "white"
  }
 },
 "nbformat": 4,
 "nbformat_minor": 5
}
